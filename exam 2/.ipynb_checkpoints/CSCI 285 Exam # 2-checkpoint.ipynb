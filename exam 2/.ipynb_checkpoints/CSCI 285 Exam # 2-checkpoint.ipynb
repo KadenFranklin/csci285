{
 "cells": [
  {
   "cell_type": "markdown",
   "metadata": {},
   "source": [
    "# CSCI 285 Exam 2\n",
    "\n",
    "All of the below work is my own. I adhered to the test-taking procedure by not receiving any help from my peers. I have cited all resources I found online or from notebooks shared from class that helped me complete this exam.\n",
    "\n",
    "# Kaden Franklin - 11/10\n",
    "\n",
    "https://hendrix-cs.github.io/csci285/exams/exam2.html"
   ]
  },
  {
   "cell_type": "code",
   "execution_count": 3,
   "metadata": {},
   "outputs": [],
   "source": [
    "# Import pandas\n",
    "import pandas as pd\n",
    "pd.set_option('display.max_columns', None)\n",
    "\n",
    "# Import seaborn\n",
    "import seaborn as sns\n",
    "%matplotlib inline\n",
    "\n",
    "# Import SciKitLearn functions\n",
    "from sklearn.datasets import make_blobs, make_regression\n",
    "from sklearn.preprocessing import StandardScaler\n",
    "from sklearn.linear_model import LinearRegression\n",
    "from sklearn.decomposition import PCA\n",
    "from sklearn.cluster import KMeans\n",
    "\n",
    "# and finally import numpy\n",
    "import numpy as np\n",
    "\n",
    "# Apply the default theme\n",
    "sns.set_theme()"
   ]
  },
  {
   "cell_type": "markdown",
   "metadata": {},
   "source": [
    "## Part  1 - Lorenz System\n",
    "\n",
    "The Lorenz system is a set of ordinary differential equations that, while deterministic in its representation, exhibits chaotic solutions under certain conditions. Applications of the Lorenz system has led to the popularization of the term “butterfly effect” (i.e. even the minor disturbance of butterfly wings could cause hurricanes to form on the other side of the world).\n",
    "\n",
    "Using Euler’s method, solve and visualize the Lorenz system for x(t), y(t), and z(t) using line graphs, and produce “butterfly” phase portrait(s) by scatter plotting y(x), y(z), and x(z). For initial conditions, use σ = 10, β = 8/3, ρ = 28, x_0 = 2.0, y_0 = 5.0, and z_0 = 3.0. For the time range, you should choose n=30 (30 steps) to start. dt ~ 0.001.\n",
    "\n",
    "Visualizations\n",
    "Make sure that your axes are labeled and that you set a title for each chart. Increase the size and aspect ratio to improve visibility.\n",
    "\n",
    "Variable Step Size\n",
    "Vary the step size (n=1, n=5, n=10, n=50, etc.) and interpret the results. What do you observe in the phase portraits? What do you observe in the time series plots? What happens as n increases?\n",
    "\n",
    "Write-Up\n",
    "While writing up your solution, use appropriate markdown stying and include the Lorenz system (and all of its initial conditions) written in LaTeX. Your solution should read like a report about the Lorenz system and points will be awarded for readibility and attention to detail. Cite your sources.\n",
    "\n"
   ]
  },
  {
   "cell_type": "markdown",
   "metadata": {},
   "source": [
    "For simplicities sake I have chose to remove the id row, it is not needed to index the dataframe"
   ]
  },
  {
   "cell_type": "code",
   "execution_count": 10,
   "metadata": {},
   "outputs": [],
   "source": [
    "# ALL INFORMATION ABOUT THE LORENZ MODEL USED IN THIS REPORT WAS OBTAINED FROM:\n",
    "# https://en.wikipedia.org/wiki/Lorenz_system\n",
    "\n",
    "# The Lorenz model was created by the man himself Edward Lorenz, \n",
    "# it is a series of equations used to represent atmospheric convection\n"
   ]
  },
  {
   "cell_type": "markdown",
   "metadata": {},
   "source": [
    "The equations can be represented as:\n",
    "\n",
    "$$ dx/dt = σ (y - x)$$\n",
    "\n",
    "$$ dy/dt = x *(ρ - z) - y $$\n",
    "\n",
    "$$ dz/dt = x * y - β * z $$\n",
    "\n",
    "https://wikimedia.org/api/rest_v1/media/math/render/svg/7928004d58943529a7be774575a62ca436a82a7f"
   ]
  },
  {
   "cell_type": "code",
   "execution_count": 9,
   "metadata": {},
   "outputs": [
    {
     "name": "stdout",
     "output_type": "stream",
     "text": [
      "30.0 45.0 2.0\n"
     ]
    }
   ],
   "source": [
    "# Now for their visualization\n",
    "\n",
    "# x(t) - X\n",
    "# y(t) - Y\n",
    "# z(t) - Z\n",
    "\n",
    "# produce a butterfly phase portrait(s) via scatter plots\n",
    "\n",
    "alpha = 10\n",
    "beta = 8/3\n",
    "p = 28\n",
    "x_0 = 2.0\n",
    "y_0 = 5.0\n",
    "z_0 = 3.0\n",
    "n = 30\n",
    "\n",
    "dt = 0.001\n",
    "\n",
    "X = 10 * (5.0 - 2.0)\n",
    "\n",
    "Y = 2.0 * (28 - 3.0) - 5.0\n",
    "\n",
    "Z = 2.0 * 5.0 - (8/3) * 3.0\n",
    "\n",
    "print(X, Y, Z)"
   ]
  },
  {
   "cell_type": "code",
   "execution_count": null,
   "metadata": {},
   "outputs": [],
   "source": []
  },
  {
   "cell_type": "code",
   "execution_count": null,
   "metadata": {},
   "outputs": [],
   "source": []
  },
  {
   "cell_type": "code",
   "execution_count": null,
   "metadata": {},
   "outputs": [],
   "source": []
  },
  {
   "cell_type": "markdown",
   "metadata": {},
   "source": [
    "# Part 2 - Monte Carlo\n",
    "\n",
    "The reproduction rate of fish populations is being outpaced by our appetites and fishing abilities. Without moderation and attention to the aquatic ecosystem, through overfishing we could easy end up in a world without fish. To make our models feasible, we will be simplifying the situation a bit.\n",
    "\n",
    "Step 1\n",
    "Create a Monte Carlo simulation of two large and two small fishing companies competing for whitefish in the Great Lakes. Every year, each large company catches on average 150,000 fish, with a standard deviation of 50,000. Each small company catches on average 60,000 fish, with a standard deviation of 20,000.\n",
    "\n",
    "The lakes in which the companies are fishing can only support two million fish. Every year, the fish that remain after fishing will reproduce at an average rate of 25% with a standard deviation of 5%, rounded to the nearest whole number without going over two million. For instance, if there are 1.2 million fish, they are expected to grow to 1.5 million for the next year. If there are 1.9 million, they will grow to two million.\n",
    "\n",
    "Run 100 trials of this simulation, and create a cumulative graph of all experiments showing the total population of the fish in the lake over time for the next 50 years.\n",
    "\n",
    "What is the average length of time before the fish population in the lake reaches zero?\n",
    "\n",
    "\n",
    "\n"
   ]
  },
  {
   "cell_type": "code",
   "execution_count": 1,
   "metadata": {},
   "outputs": [],
   "source": [
    "trials = 100\n",
    "\n",
    "years = 50\n",
    "\n",
    "population = 2000000"
   ]
  },
  {
   "cell_type": "code",
   "execution_count": 4,
   "metadata": {},
   "outputs": [],
   "source": [
    "# defining a time domain\n",
    "time_domain =  np.linspace(0, years, years)\n",
    "dt = time_domain[1] - time_domain[0]"
   ]
  },
  {
   "cell_type": "code",
   "execution_count": null,
   "metadata": {},
   "outputs": [],
   "source": [
    "# k is the combined growth and death rates\n",
    "\n",
    "# defining fishing effet on population\n",
    "big_fish_1 = np.random.normal(\n",
    "    loc=150000, \n",
    "    scale=50000,\n",
    "    size=years\n",
    ")\n",
    "\n",
    "big_fish_2 = np.random.normal(\n",
    "    loc=150000, \n",
    "    scale=50000,\n",
    "    size=years\n",
    ")\n",
    "\n",
    "small_fish_1 = np.random.normal(\n",
    "    loc=60000, \n",
    "    scale=20000,\n",
    "    size=years\n",
    ")\n",
    "\n",
    "small_fish_2 = np.random.normal(\n",
    "    loc=60000, \n",
    "    scale=20000,\n",
    "    size=years\n",
    ")\n",
    "\n",
    "fish_growth = np.random.normal(\n",
    "    loc=1.25,\n",
    "    scale=0.05,\n",
    "    size=years\n",
    ")\n",
    "\n",
    "    \n",
    "# define initial conditions for fish\n",
    "pop = np.zeros(years)\n",
    "pop[0] = P_0\n",
    "\n",
    "\n",
    "for n in range(0, years - 1):\n",
    "        \n",
    "    # derivatives for the humans\n",
    "    dP = k * pop[n] * (1 - (pop[n] / population))\n",
    "        \n",
    "    ## calculate step forward\n",
    "    pop[n+1] = pop[n] + (dP * dt)\n",
    "    \n",
    "    ## substract kill killed by hunters\n",
    "    pop[n+1] = pop[n+1] - big[n]\n"
   ]
  },
  {
   "cell_type": "code",
   "execution_count": null,
   "metadata": {},
   "outputs": [],
   "source": [
    "df = pd.DataFrame({\n",
    "    'population': pop,\n",
    "    'years': time_domain\n",
    "})"
   ]
  },
  {
   "cell_type": "code",
   "execution_count": null,
   "metadata": {},
   "outputs": [],
   "source": [
    "line = sns.relplot(\n",
    "    data=df,\n",
    "    x='years',\n",
    "    y='population',\n",
    "    kind='line',\n",
    "    height=7,\n",
    "    aspect=1.5\n",
    ").set(\n",
    "    title=\"Fish Population In the Great Lakes\"\n",
    ")"
   ]
  },
  {
   "cell_type": "markdown",
   "metadata": {},
   "source": [
    "Step 2\n",
    "The local Fish and Wildlife Department wants to regulate the number of fish a company can catch each year, creating an upper bound somewhere between 80,000 and 150,000. Revise your model above to explore the impact of such a regulation.\n",
    "\n",
    "What would you recommend as a good number for this regulation that will balance a sustainable ecosystem with the interests of the fishing companies?\n",
    "\n",
    "Back up your decision with graphs and analysis."
   ]
  },
  {
   "cell_type": "code",
   "execution_count": null,
   "metadata": {},
   "outputs": [],
   "source": []
  },
  {
   "cell_type": "code",
   "execution_count": null,
   "metadata": {},
   "outputs": [],
   "source": []
  },
  {
   "cell_type": "code",
   "execution_count": null,
   "metadata": {},
   "outputs": [],
   "source": []
  },
  {
   "cell_type": "markdown",
   "metadata": {},
   "source": [
    "Step 3\n",
    "The values above for the number of fish in the Great Lakes, the average number of fishing caught, the number of fishing companies, etc, are all very, very rough and incorrect estimates.\n",
    "\n",
    "Research the actual fishing situation in Michigan by reading about the current commercial fishing industry, the state commercial fishing regulations, and a history of commercial fishing in Michigan.\n",
    "\n",
    "What are some of the largest errors in the numerical estimates used above? Decide on your own estimates and rerun the simulation above to provide a more accurate picture.\n",
    "\n",
    "Visualizations\n",
    "Make sure that your axes are labeled and that you set a title for each chart. Increase the size and aspect ratio to improve visibility. Produce visualizations that convince yourself (and me) that you have the correct solution to the above problem.\n",
    "\n",
    "Write-Up\n",
    "While writing up your solution, use appropriate markdown styling and any LaTeX you think is needed. Your solution should read like a report about overfishing on the Great Lakes and points will be awared for readibility and attention to detail. Cite your sources."
   ]
  },
  {
   "cell_type": "code",
   "execution_count": null,
   "metadata": {},
   "outputs": [],
   "source": [
    "# Step Three, purifying data\n",
    "\n",
    "# Well Considering there exist more than one species of fish, \n",
    "# we should start there, and model perhaps the most commonly caught fish in the great lakes"
   ]
  },
  {
   "cell_type": "code",
   "execution_count": null,
   "metadata": {},
   "outputs": [],
   "source": []
  },
  {
   "cell_type": "code",
   "execution_count": null,
   "metadata": {},
   "outputs": [],
   "source": []
  },
  {
   "cell_type": "code",
   "execution_count": null,
   "metadata": {},
   "outputs": [],
   "source": []
  },
  {
   "cell_type": "code",
   "execution_count": null,
   "metadata": {},
   "outputs": [],
   "source": []
  },
  {
   "cell_type": "code",
   "execution_count": null,
   "metadata": {},
   "outputs": [],
   "source": []
  }
 ],
 "metadata": {
  "kernelspec": {
   "display_name": "Python 3 (ipykernel)",
   "language": "python",
   "name": "python3"
  },
  "language_info": {
   "codemirror_mode": {
    "name": "ipython",
    "version": 3
   },
   "file_extension": ".py",
   "mimetype": "text/x-python",
   "name": "python",
   "nbconvert_exporter": "python",
   "pygments_lexer": "ipython3",
   "version": "3.9.12"
  }
 },
 "nbformat": 4,
 "nbformat_minor": 2
}
