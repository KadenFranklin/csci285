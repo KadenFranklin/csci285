{
 "cells": [
  {
   "cell_type": "markdown",
   "metadata": {},
   "source": [
    "# Lab 3 - K-means and PCA\n",
    "(principle component analysis)"
   ]
  },
  {
   "cell_type": "code",
   "execution_count": 1,
   "metadata": {},
   "outputs": [],
   "source": [
    "# Import pandas\n",
    "import pandas as pd\n",
    "pd.set_option('display.max_columns', None)\n",
    "\n",
    "# Import seaborn\n",
    "import seaborn as sns\n",
    "%matplotlib inline\n",
    "\n",
    "# Apply the default theme\n",
    "sns.set_theme()"
   ]
  },
  {
   "cell_type": "markdown",
   "metadata": {},
   "source": [
    "## Step 1 - Dataset Understanding"
   ]
  },
  {
   "cell_type": "markdown",
   "metadata": {},
   "source": [
    "Working with the Cleveland clinic testing dataset for diagnosing heart disease.\n",
    "\n",
    "specifcally cleveland-testing.csv"
   ]
  },
  {
   "cell_type": "code",
   "execution_count": 5,
   "metadata": {},
   "outputs": [
    {
     "data": {
      "text/html": [
       "<div>\n",
       "<style scoped>\n",
       "    .dataframe tbody tr th:only-of-type {\n",
       "        vertical-align: middle;\n",
       "    }\n",
       "\n",
       "    .dataframe tbody tr th {\n",
       "        vertical-align: top;\n",
       "    }\n",
       "\n",
       "    .dataframe thead th {\n",
       "        text-align: right;\n",
       "    }\n",
       "</style>\n",
       "<table border=\"1\" class=\"dataframe\">\n",
       "  <thead>\n",
       "    <tr style=\"text-align: right;\">\n",
       "      <th></th>\n",
       "      <th>age</th>\n",
       "      <th>female</th>\n",
       "      <th>chest_pain</th>\n",
       "      <th>rest_bps</th>\n",
       "      <th>cholesterol</th>\n",
       "      <th>high_fasting_blood_sugar</th>\n",
       "      <th>rest_ecg</th>\n",
       "      <th>maximum_heart_rate</th>\n",
       "      <th>exercise_angina</th>\n",
       "      <th>vessels</th>\n",
       "      <th>heart_disease</th>\n",
       "    </tr>\n",
       "  </thead>\n",
       "  <tbody>\n",
       "    <tr>\n",
       "      <th>0</th>\n",
       "      <td>57</td>\n",
       "      <td>False</td>\n",
       "      <td>asymptomatic</td>\n",
       "      <td>140</td>\n",
       "      <td>192</td>\n",
       "      <td>False</td>\n",
       "      <td>normal</td>\n",
       "      <td>148</td>\n",
       "      <td>False</td>\n",
       "      <td>0</td>\n",
       "      <td>False</td>\n",
       "    </tr>\n",
       "    <tr>\n",
       "      <th>1</th>\n",
       "      <td>56</td>\n",
       "      <td>True</td>\n",
       "      <td>atypical angina</td>\n",
       "      <td>140</td>\n",
       "      <td>294</td>\n",
       "      <td>False</td>\n",
       "      <td>hypertrophy</td>\n",
       "      <td>153</td>\n",
       "      <td>False</td>\n",
       "      <td>0</td>\n",
       "      <td>False</td>\n",
       "    </tr>\n",
       "    <tr>\n",
       "      <th>2</th>\n",
       "      <td>56</td>\n",
       "      <td>False</td>\n",
       "      <td>non-anginal pain</td>\n",
       "      <td>130</td>\n",
       "      <td>256</td>\n",
       "      <td>True</td>\n",
       "      <td>hypertrophy</td>\n",
       "      <td>142</td>\n",
       "      <td>True</td>\n",
       "      <td>1</td>\n",
       "      <td>True</td>\n",
       "    </tr>\n",
       "    <tr>\n",
       "      <th>3</th>\n",
       "      <td>44</td>\n",
       "      <td>False</td>\n",
       "      <td>atypical angina</td>\n",
       "      <td>120</td>\n",
       "      <td>263</td>\n",
       "      <td>False</td>\n",
       "      <td>normal</td>\n",
       "      <td>173</td>\n",
       "      <td>False</td>\n",
       "      <td>0</td>\n",
       "      <td>False</td>\n",
       "    </tr>\n",
       "    <tr>\n",
       "      <th>4</th>\n",
       "      <td>52</td>\n",
       "      <td>False</td>\n",
       "      <td>non-anginal pain</td>\n",
       "      <td>172</td>\n",
       "      <td>199</td>\n",
       "      <td>True</td>\n",
       "      <td>normal</td>\n",
       "      <td>162</td>\n",
       "      <td>False</td>\n",
       "      <td>0</td>\n",
       "      <td>False</td>\n",
       "    </tr>\n",
       "  </tbody>\n",
       "</table>\n",
       "</div>"
      ],
      "text/plain": [
       "   age  female        chest_pain  rest_bps  cholesterol  \\\n",
       "0   57   False      asymptomatic       140          192   \n",
       "1   56    True   atypical angina       140          294   \n",
       "2   56   False  non-anginal pain       130          256   \n",
       "3   44   False   atypical angina       120          263   \n",
       "4   52   False  non-anginal pain       172          199   \n",
       "\n",
       "   high_fasting_blood_sugar     rest_ecg  maximum_heart_rate  exercise_angina  \\\n",
       "0                     False       normal                 148            False   \n",
       "1                     False  hypertrophy                 153            False   \n",
       "2                      True  hypertrophy                 142             True   \n",
       "3                     False       normal                 173            False   \n",
       "4                      True       normal                 162            False   \n",
       "\n",
       "   vessels  heart_disease  \n",
       "0        0          False  \n",
       "1        0          False  \n",
       "2        1           True  \n",
       "3        0          False  \n",
       "4        0          False  "
      ]
     },
     "execution_count": 5,
     "metadata": {},
     "output_type": "execute_result"
    }
   ],
   "source": [
    "c_t = pd.read_csv(\"cleveland-testing.csv\")\n",
    "c_t.head()"
   ]
  },
  {
   "cell_type": "code",
   "execution_count": 6,
   "metadata": {},
   "outputs": [
    {
     "name": "stdout",
     "output_type": "stream",
     "text": [
      "Number of Rows: 293\n",
      "Shape (rows x cols): (293, 11)\n"
     ]
    }
   ],
   "source": [
    "print(f\"Number of Rows: {len(c_t)}\")\n",
    "print(f\"Shape (rows x cols): {c_t.shape}\")"
   ]
  },
  {
   "cell_type": "code",
   "execution_count": 7,
   "metadata": {},
   "outputs": [
    {
     "data": {
      "text/plain": [
       "age                          int64\n",
       "female                        bool\n",
       "chest_pain                  object\n",
       "rest_bps                     int64\n",
       "cholesterol                  int64\n",
       "high_fasting_blood_sugar      bool\n",
       "rest_ecg                    object\n",
       "maximum_heart_rate           int64\n",
       "exercise_angina               bool\n",
       "vessels                      int64\n",
       "heart_disease                 bool\n",
       "dtype: object"
      ]
     },
     "execution_count": 7,
     "metadata": {},
     "output_type": "execute_result"
    }
   ],
   "source": [
    "c_t.dtypes"
   ]
  },
  {
   "cell_type": "code",
   "execution_count": 8,
   "metadata": {},
   "outputs": [
    {
     "data": {
      "text/html": [
       "<div>\n",
       "<style scoped>\n",
       "    .dataframe tbody tr th:only-of-type {\n",
       "        vertical-align: middle;\n",
       "    }\n",
       "\n",
       "    .dataframe tbody tr th {\n",
       "        vertical-align: top;\n",
       "    }\n",
       "\n",
       "    .dataframe thead th {\n",
       "        text-align: right;\n",
       "    }\n",
       "</style>\n",
       "<table border=\"1\" class=\"dataframe\">\n",
       "  <thead>\n",
       "    <tr style=\"text-align: right;\">\n",
       "      <th></th>\n",
       "      <th>age</th>\n",
       "      <th>rest_bps</th>\n",
       "      <th>cholesterol</th>\n",
       "      <th>maximum_heart_rate</th>\n",
       "      <th>vessels</th>\n",
       "    </tr>\n",
       "  </thead>\n",
       "  <tbody>\n",
       "    <tr>\n",
       "      <th>count</th>\n",
       "      <td>293.000000</td>\n",
       "      <td>293.000000</td>\n",
       "      <td>293.000000</td>\n",
       "      <td>293.000000</td>\n",
       "      <td>293.000000</td>\n",
       "    </tr>\n",
       "    <tr>\n",
       "      <th>mean</th>\n",
       "      <td>54.365188</td>\n",
       "      <td>131.627986</td>\n",
       "      <td>246.522184</td>\n",
       "      <td>149.426621</td>\n",
       "      <td>0.658703</td>\n",
       "    </tr>\n",
       "    <tr>\n",
       "      <th>std</th>\n",
       "      <td>9.000747</td>\n",
       "      <td>17.750984</td>\n",
       "      <td>52.069603</td>\n",
       "      <td>22.877853</td>\n",
       "      <td>0.928746</td>\n",
       "    </tr>\n",
       "    <tr>\n",
       "      <th>min</th>\n",
       "      <td>29.000000</td>\n",
       "      <td>94.000000</td>\n",
       "      <td>126.000000</td>\n",
       "      <td>71.000000</td>\n",
       "      <td>0.000000</td>\n",
       "    </tr>\n",
       "    <tr>\n",
       "      <th>25%</th>\n",
       "      <td>48.000000</td>\n",
       "      <td>120.000000</td>\n",
       "      <td>211.000000</td>\n",
       "      <td>133.000000</td>\n",
       "      <td>0.000000</td>\n",
       "    </tr>\n",
       "    <tr>\n",
       "      <th>50%</th>\n",
       "      <td>55.000000</td>\n",
       "      <td>130.000000</td>\n",
       "      <td>241.000000</td>\n",
       "      <td>152.000000</td>\n",
       "      <td>0.000000</td>\n",
       "    </tr>\n",
       "    <tr>\n",
       "      <th>75%</th>\n",
       "      <td>61.000000</td>\n",
       "      <td>140.000000</td>\n",
       "      <td>275.000000</td>\n",
       "      <td>166.000000</td>\n",
       "      <td>1.000000</td>\n",
       "    </tr>\n",
       "    <tr>\n",
       "      <th>max</th>\n",
       "      <td>77.000000</td>\n",
       "      <td>200.000000</td>\n",
       "      <td>564.000000</td>\n",
       "      <td>202.000000</td>\n",
       "      <td>3.000000</td>\n",
       "    </tr>\n",
       "  </tbody>\n",
       "</table>\n",
       "</div>"
      ],
      "text/plain": [
       "              age    rest_bps  cholesterol  maximum_heart_rate     vessels\n",
       "count  293.000000  293.000000   293.000000          293.000000  293.000000\n",
       "mean    54.365188  131.627986   246.522184          149.426621    0.658703\n",
       "std      9.000747   17.750984    52.069603           22.877853    0.928746\n",
       "min     29.000000   94.000000   126.000000           71.000000    0.000000\n",
       "25%     48.000000  120.000000   211.000000          133.000000    0.000000\n",
       "50%     55.000000  130.000000   241.000000          152.000000    0.000000\n",
       "75%     61.000000  140.000000   275.000000          166.000000    1.000000\n",
       "max     77.000000  200.000000   564.000000          202.000000    3.000000"
      ]
     },
     "execution_count": 8,
     "metadata": {},
     "output_type": "execute_result"
    }
   ],
   "source": [
    "c_t.describe()"
   ]
  },
  {
   "cell_type": "markdown",
   "metadata": {},
   "source": [
    "## 1.1 Categorical Analysis"
   ]
  },
  {
   "cell_type": "code",
   "execution_count": 12,
   "metadata": {},
   "outputs": [
    {
     "data": {
      "text/plain": [
       "asymptomatic        138\n",
       "non-anginal pain     85\n",
       "atypical angina      48\n",
       "typical angina       22\n",
       "Name: chest_pain, dtype: int64"
      ]
     },
     "execution_count": 12,
     "metadata": {},
     "output_type": "execute_result"
    }
   ],
   "source": [
    "c_t['chest_pain'].value_counts()"
   ]
  },
  {
   "cell_type": "code",
   "execution_count": 10,
   "metadata": {
    "scrolled": true
   },
   "outputs": [
    {
     "data": {
      "text/plain": [
       "normal              148\n",
       "hypertrophy         141\n",
       "wave abnormality      4\n",
       "Name: rest_ecg, dtype: int64"
      ]
     },
     "execution_count": 10,
     "metadata": {},
     "output_type": "execute_result"
    }
   ],
   "source": [
    "c_t['rest_ecg'].value_counts()"
   ]
  },
  {
   "cell_type": "code",
   "execution_count": 11,
   "metadata": {},
   "outputs": [
    {
     "data": {
      "text/plain": [
       "False    159\n",
       "True     134\n",
       "Name: heart_disease, dtype: int64"
      ]
     },
     "execution_count": 11,
     "metadata": {},
     "output_type": "execute_result"
    }
   ],
   "source": [
    "c_t['heart_disease'].value_counts()"
   ]
  },
  {
   "cell_type": "code",
   "execution_count": 13,
   "metadata": {},
   "outputs": [],
   "source": [
    "# three categorical against five numeric\n",
    "# 'chest_pain', 'rest_ecg', 'heart_disease'\n",
    "# 'age', 'rest_bps', 'cholesteral', 'maximum_heart_rate', 'vessels'"
   ]
  },
  {
   "cell_type": "code",
   "execution_count": null,
   "metadata": {},
   "outputs": [],
   "source": []
  },
  {
   "cell_type": "markdown",
   "metadata": {},
   "source": [
    "## Step 2 - K-means"
   ]
  },
  {
   "cell_type": "code",
   "execution_count": null,
   "metadata": {},
   "outputs": [],
   "source": [
    "def kmeans_plot(df, cf=None):\n",
    "    \n",
    "    df_tmp = df.copy()\n",
    "    df_tmp['centriod'] = False\n",
    "    \n",
    "    if cf is not None:\n",
    "        cf_tmp = cf.copy()\n",
    "        cf_tmp['centriod'] = True\n",
    "    \n",
    "    vf = pd.concat([df_tmp, cf_tmp]) if cf is not None else df_tmp\n",
    "    \n",
    "    # visualize demo + centriod data\n",
    "    scatter = sns.relplot(\n",
    "        data=vf, \n",
    "        x=\"x\", \n",
    "        y=\"y\",\n",
    "        hue='cluster',\n",
    "        style='centriod',\n",
    "        kind=\"scatter\",\n",
    "        height=7,\n",
    "        aspect=1.5,\n",
    "        s=300\n",
    "    ).set(\n",
    "        title=\"Demo Data\"\n",
    "    )\n",
    "\n",
    "    # label points with index\n",
    "    for i, point in vf.iterrows():\n",
    "        scatter.ax.text(point['x']+.1, point['y'], i)\n",
    "        \n",
    "kmeans_plot(demodf)\n",
    "\n",
    "# cluster - this should be 0 or 1 and is the resulting labels from running K-Means.\n",
    "# prediction - transformed 0s and 1s into True/False values that align with the ground truth heart_disease column."
   ]
  },
  {
   "cell_type": "code",
   "execution_count": null,
   "metadata": {},
   "outputs": [],
   "source": []
  },
  {
   "cell_type": "markdown",
   "metadata": {},
   "source": [
    "## Step 3 - Confusion Matrix"
   ]
  }
 ],
 "metadata": {
  "kernelspec": {
   "display_name": "Python 3 (ipykernel)",
   "language": "python",
   "name": "python3"
  },
  "language_info": {
   "codemirror_mode": {
    "name": "ipython",
    "version": 3
   },
   "file_extension": ".py",
   "mimetype": "text/x-python",
   "name": "python",
   "nbconvert_exporter": "python",
   "pygments_lexer": "ipython3",
   "version": "3.9.12"
  }
 },
 "nbformat": 4,
 "nbformat_minor": 2
}
