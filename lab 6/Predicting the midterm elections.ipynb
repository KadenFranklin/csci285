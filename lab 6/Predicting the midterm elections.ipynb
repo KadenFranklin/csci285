{
 "cells": [
  {
   "cell_type": "markdown",
   "metadata": {},
   "source": [
    "# Lab 5 - Predicting Midterm Elections\n",
    "A lab done by both:\n",
    "\n",
    "Kaden Franklin & \n",
    "\n",
    "https://hendrix-cs.github.io/csci285/labs/election.html"
   ]
  },
  {
   "cell_type": "code",
   "execution_count": 1,
   "metadata": {},
   "outputs": [],
   "source": [
    "# Import pandas\n",
    "import pandas as pd\n",
    "pd.set_option('display.max_columns', None)\n",
    "\n",
    "import numpy as np\n",
    "\n",
    "# Import seaborn\n",
    "import seaborn as sns\n",
    "%matplotlib inline\n",
    "import matplotlib.pyplot as plt\n",
    "\n",
    "\n",
    "# Apply the default theme\n",
    "sns.set_theme()\n"
   ]
  },
  {
   "cell_type": "markdown",
   "metadata": {},
   "source": [
    "# Step 1: Downloading Polling Data"
   ]
  },
  {
   "cell_type": "markdown",
   "metadata": {},
   "source": [
    "Polling data retrieved from :\n",
    "\n",
    "https://projects.fivethirtyeight.com/2022-election-forecast/senate/\n",
    "\n",
    "This file holds all the senate polls for each state from the last two years. \n",
    "\n",
    "Load this file up in a Jupyter notebook as a Pandas DataFrame.\n",
    "\n",
    "Examine its shape and features and produce a data dictionary explaining each column and what a row of data represents.\n"
   ]
  },
  {
   "cell_type": "code",
   "execution_count": null,
   "metadata": {},
   "outputs": [],
   "source": []
  },
  {
   "cell_type": "code",
   "execution_count": null,
   "metadata": {},
   "outputs": [],
   "source": []
  },
  {
   "cell_type": "markdown",
   "metadata": {},
   "source": [
    "# Step 2: Preparing the polling data for analysis\n",
    "\n",
    "Our goal is to predict the probability that Democrats will win key swing states and retain control of the Senate after the November 8th mid-term elections. We will look at the following races,\n",
    "\n",
    "Nevada (CATHERINE CORTEZ MASTO (D) vs. Adam Laxalt (R))\n",
    "\n",
    "Pennsylvania (Mehmet Oz (R) vs. John Fetterman (D))\n",
    "\n",
    "Georgia (RAPHAEL WARNOCK (D) vs. Herschel Walker (R))\n",
    "\n",
    "For our first assumption, we will only use the most recent poll for each state. \n",
    "\n",
    "Format the created_at column of the polling DataFrame as a datetime and then select only the poll with the latest value for each state.\n",
    "\n",
    "If there are multiple polls entered on the same date, select the one with the larger sample size.\n",
    "\n",
    "------------------------------------------\n",
    "\n",
    "In these polls, we will need the data in the sample_size, party, and pct columns. \n",
    "\n",
    "The sample_size is how many people were surveyed in this poll, the party lists the choice offered (Note: answer is actually the choice offered, but since we are rolling this up to political parties it makes sense to work with the party column), and the pct is the percent of people who selected this choice. \n",
    "\n",
    "Divide the value in pct by 100, so it is a number between 0 and 1.\n",
    "\n",
    "------------------------------------------\n",
    "\n",
    "These choices don’t always add up to 100%, some small percentage of voters remain undecided or unwilling to offer their choice, and there are small margins for Libertarian, Green, and other party candidates. \n",
    "\n",
    "For our second assumption, to help determine the plurality winner for each state, we will say that people are either voting DEM, or voting against DEM. \n",
    "\n",
    "Therefore, we can select only those rows with the party equal to DEM."
   ]
  },
  {
   "cell_type": "markdown",
   "metadata": {
    "scrolled": false
   },
   "source": []
  },
  {
   "cell_type": "markdown",
   "metadata": {},
   "source": []
  },
  {
   "cell_type": "markdown",
   "metadata": {},
   "source": [
    "# Step 3: Generating probability distributions\n",
    "\n",
    "Polls based on a sample of the whole population include a margin of error.\n",
    "\n",
    "To determine if DEMs will win a particular state, we will generate a random number using a normal distribution, with a mean of pct for that state’s poll.\n",
    "\n",
    "To account for the margin of error, we will use the following formula to calculate the standard deviation for the poll, which is based on the sample_size for that state."
   ]
  },
  {
   "cell_type": "code",
   "execution_count": null,
   "metadata": {},
   "outputs": [],
   "source": []
  },
  {
   "cell_type": "code",
   "execution_count": null,
   "metadata": {},
   "outputs": [],
   "source": []
  },
  {
   "cell_type": "markdown",
   "metadata": {},
   "source": [
    "# Step 4: Simulation\n",
    "\n",
    "We now have enough data to simulate the elections. \n",
    "\n",
    "For each seat, generate a percentage of voters choosing DEM.\n",
    "\n",
    "If this generated value is greater than 0.5, then award the seat to the Democrats.\n",
    "\n",
    "Run the election simulation 40,000 times and collect the results of each simulation. \n",
    "\n",
    "Plot the outcome using a histogram. Calculate the mean & median of your resulting distribution."
   ]
  },
  {
   "cell_type": "code",
   "execution_count": null,
   "metadata": {},
   "outputs": [],
   "source": []
  },
  {
   "cell_type": "code",
   "execution_count": null,
   "metadata": {},
   "outputs": [],
   "source": []
  },
  {
   "cell_type": "markdown",
   "metadata": {},
   "source": [
    "# Step 5: Conclusion\n",
    "\n",
    "Clearly state the predicted probability of Democrats winning the senate in the 2022 mid-term elections.\n",
    "\n",
    "How closely do your results match the predictions at FiveThirtyEight? What could explain any differences you see?\n",
    "\n",
    "What other assumptions did we implicitly make in our simulation?"
   ]
  },
  {
   "cell_type": "code",
   "execution_count": null,
   "metadata": {},
   "outputs": [],
   "source": []
  },
  {
   "cell_type": "code",
   "execution_count": null,
   "metadata": {},
   "outputs": [],
   "source": []
  },
  {
   "cell_type": "code",
   "execution_count": null,
   "metadata": {},
   "outputs": [],
   "source": []
  },
  {
   "cell_type": "code",
   "execution_count": null,
   "metadata": {},
   "outputs": [],
   "source": []
  }
 ],
 "metadata": {
  "kernelspec": {
   "display_name": "Python 3 (ipykernel)",
   "language": "python",
   "name": "python3"
  },
  "language_info": {
   "codemirror_mode": {
    "name": "ipython",
    "version": 3
   },
   "file_extension": ".py",
   "mimetype": "text/x-python",
   "name": "python",
   "nbconvert_exporter": "python",
   "pygments_lexer": "ipython3",
   "version": "3.9.12"
  }
 },
 "nbformat": 4,
 "nbformat_minor": 2
}
