{
 "cells": [
  {
   "cell_type": "markdown",
   "id": "2d06a641",
   "metadata": {},
   "source": [
    "# Lab 2: Data Visualization"
   ]
  },
  {
   "cell_type": "code",
   "execution_count": 14,
   "id": "d5ff1acb",
   "metadata": {},
   "outputs": [],
   "source": [
    "import pandas as pd\n",
    "import seaborn as sns"
   ]
  },
  {
   "cell_type": "markdown",
   "id": "6bcbf759",
   "metadata": {},
   "source": [
    "## 1: Data Gathering"
   ]
  },
  {
   "cell_type": "markdown",
   "id": "71aef221",
   "metadata": {},
   "source": [
    "I will be using the Parks Volunteer Program Hours and Savings dataset. \n",
    "\n",
    "Retrieved from:https://data.littlerock.gov/Quality-of-Life/Parks-Volunteer-Program-Hours-and-Savings/5yzr-wmzh\n",
    "\n",
    "An 'Open data portal' for the city of little rock. \n",
    "\n",
    "This dataset contains columns for:\n",
    "\n",
    "\n",
    "Program Name - Object\n",
    "\n",
    "Volunteer Count - int64\n",
    "\n",
    "Volunteer Hours - Object\t\n",
    "\n",
    "Departmental Savings - Object\n",
    "\n",
    "Date - Object"
   ]
  },
  {
   "cell_type": "code",
   "execution_count": 15,
   "id": "cec08083",
   "metadata": {
    "scrolled": false
   },
   "outputs": [
    {
     "name": "stdout",
     "output_type": "stream",
     "text": [
      "<bound method NDFrame.head of                                   Program Name  Volunteer Count  \\\n",
      "0     Active & Aging - Dunbar Community Center                4   \n",
      "1    Active & Aging - East LR Community Center               10   \n",
      "2         Active & Aging - SW Community Center               29   \n",
      "3                  Adopt-A-Flowerbed - Allsopp                1   \n",
      "4                   Adopt-A-Flowerbed - Butler                1   \n",
      "..                                         ...              ...   \n",
      "741                  Stephens Community Center               15   \n",
      "742              The Centre at University Park                1   \n",
      "743                     Therapeutic Recreation                1   \n",
      "744                      Volunteer Park Ranger               18   \n",
      "745              West Central Community Center                0   \n",
      "\n",
      "    Volunteer Hours Departmental Savings        Date  \n",
      "0                 0                    0  09/30/2020  \n",
      "1                 0                    0  09/30/2020  \n",
      "2                 0                    0  09/30/2020  \n",
      "3                 8               163.92  09/30/2020  \n",
      "4                 0                    0  09/30/2020  \n",
      "..              ...                  ...         ...  \n",
      "741               0                    0  02/28/2021  \n",
      "742               0                    0  02/28/2021  \n",
      "743               0                    0  02/28/2021  \n",
      "744          164.25           3,542.8725  02/28/2021  \n",
      "745               0                    0  02/28/2021  \n",
      "\n",
      "[746 rows x 5 columns]>\n"
     ]
    }
   ],
   "source": [
    "lil = pd.read_csv(r\"C:\\Users\\Kaden's Laptop\\Documents\\GitHub\\KadenFranklin.github.io\\csci285\\lab 2\\Parks_Volunteer_Program_Hours_and_Savings.csv\")\n",
    "print(lil.head)"
   ]
  },
  {
   "cell_type": "markdown",
   "id": "d2d6044d",
   "metadata": {},
   "source": [
    "## 2: Analysis"
   ]
  },
  {
   "cell_type": "markdown",
   "id": "f4b77ce5",
   "metadata": {},
   "source": [
    "We can also infer some more about our dataset w/ use of the .nunique command:"
   ]
  },
  {
   "cell_type": "code",
   "execution_count": 16,
   "id": "841c0195",
   "metadata": {},
   "outputs": [
    {
     "data": {
      "text/plain": [
       "Program Name             67\n",
       "Volunteer Count          28\n",
       "Volunteer Hours         138\n",
       "Departmental Savings    146\n",
       "Date                     13\n",
       "dtype: int64"
      ]
     },
     "execution_count": 16,
     "metadata": {},
     "output_type": "execute_result"
    }
   ],
   "source": [
    "lil.nunique()"
   ]
  },
  {
   "cell_type": "markdown",
   "id": "38ead7d8",
   "metadata": {},
   "source": [
    "Our dataset is a little rough around the edges, It does not even appear on one line on my machine, the following code block will clean it up a bit.\n",
    "\n",
    "Specifically I will rename the corresponding columns; \n",
    "\n",
    "(Program Name, Program) \n",
    "\n",
    "(Volunteer Count, Volunteer #) \n",
    "\n",
    "(Volunteer Hours, Volunteer hrs)\n",
    "\n",
    "(Departmental Savings, Dep. Sav.)"
   ]
  },
  {
   "cell_type": "code",
   "execution_count": 18,
   "id": "0ed1ff1e",
   "metadata": {},
   "outputs": [],
   "source": [
    "lil.rename(columns={\"Program Name\": \"program\", \"Volunteer Count\": \"Volunteer #\", \"Volunteer Hours\": \"Volunteer hrs\", \"Deparmental Savings\": \"Dep. Sav.\"})\n",
    "lil.columns = [x.lower() for x in lil.columns]"
   ]
  },
  {
   "cell_type": "code",
   "execution_count": 19,
   "id": "ef2e507e",
   "metadata": {},
   "outputs": [
    {
     "data": {
      "text/html": [
       "<div>\n",
       "<style scoped>\n",
       "    .dataframe tbody tr th:only-of-type {\n",
       "        vertical-align: middle;\n",
       "    }\n",
       "\n",
       "    .dataframe tbody tr th {\n",
       "        vertical-align: top;\n",
       "    }\n",
       "\n",
       "    .dataframe thead th {\n",
       "        text-align: right;\n",
       "    }\n",
       "</style>\n",
       "<table border=\"1\" class=\"dataframe\">\n",
       "  <thead>\n",
       "    <tr style=\"text-align: right;\">\n",
       "      <th></th>\n",
       "      <th>program name</th>\n",
       "      <th>volunteer count</th>\n",
       "      <th>volunteer hours</th>\n",
       "      <th>departmental savings</th>\n",
       "      <th>date</th>\n",
       "    </tr>\n",
       "  </thead>\n",
       "  <tbody>\n",
       "    <tr>\n",
       "      <th>0</th>\n",
       "      <td>Active &amp; Aging - Dunbar Community Center</td>\n",
       "      <td>4</td>\n",
       "      <td>0</td>\n",
       "      <td>0</td>\n",
       "      <td>09/30/2020</td>\n",
       "    </tr>\n",
       "    <tr>\n",
       "      <th>1</th>\n",
       "      <td>Active &amp; Aging - East LR Community Center</td>\n",
       "      <td>10</td>\n",
       "      <td>0</td>\n",
       "      <td>0</td>\n",
       "      <td>09/30/2020</td>\n",
       "    </tr>\n",
       "    <tr>\n",
       "      <th>2</th>\n",
       "      <td>Active &amp; Aging - SW Community Center</td>\n",
       "      <td>29</td>\n",
       "      <td>0</td>\n",
       "      <td>0</td>\n",
       "      <td>09/30/2020</td>\n",
       "    </tr>\n",
       "    <tr>\n",
       "      <th>3</th>\n",
       "      <td>Adopt-A-Flowerbed - Allsopp</td>\n",
       "      <td>1</td>\n",
       "      <td>8</td>\n",
       "      <td>163.92</td>\n",
       "      <td>09/30/2020</td>\n",
       "    </tr>\n",
       "    <tr>\n",
       "      <th>4</th>\n",
       "      <td>Adopt-A-Flowerbed - Butler</td>\n",
       "      <td>1</td>\n",
       "      <td>0</td>\n",
       "      <td>0</td>\n",
       "      <td>09/30/2020</td>\n",
       "    </tr>\n",
       "  </tbody>\n",
       "</table>\n",
       "</div>"
      ],
      "text/plain": [
       "                                program name  volunteer count volunteer hours  \\\n",
       "0   Active & Aging - Dunbar Community Center                4               0   \n",
       "1  Active & Aging - East LR Community Center               10               0   \n",
       "2       Active & Aging - SW Community Center               29               0   \n",
       "3                Adopt-A-Flowerbed - Allsopp                1               8   \n",
       "4                 Adopt-A-Flowerbed - Butler                1               0   \n",
       "\n",
       "  departmental savings        date  \n",
       "0                    0  09/30/2020  \n",
       "1                    0  09/30/2020  \n",
       "2                    0  09/30/2020  \n",
       "3               163.92  09/30/2020  \n",
       "4                    0  09/30/2020  "
      ]
     },
     "execution_count": 19,
     "metadata": {},
     "output_type": "execute_result"
    }
   ],
   "source": [
    "lil.head()"
   ]
  },
  {
   "cell_type": "markdown",
   "id": "49ef0395",
   "metadata": {},
   "source": [
    "Much Better!\n",
    "\n",
    "Now we shall check if our dataset contains any duplicate rows."
   ]
  },
  {
   "cell_type": "code",
   "execution_count": 20,
   "id": "5c8c04e0",
   "metadata": {},
   "outputs": [
    {
     "name": "stdout",
     "output_type": "stream",
     "text": [
      "True\n",
      "686\n",
      "True\n",
      "687\n",
      "True\n",
      "688\n",
      "True\n",
      "689\n",
      "True\n",
      "690\n",
      "True\n",
      "691\n",
      "True\n",
      "692\n",
      "True\n",
      "693\n",
      "True\n",
      "694\n",
      "True\n",
      "695\n",
      "True\n",
      "696\n",
      "True\n",
      "697\n",
      "True\n",
      "698\n",
      "True\n",
      "699\n",
      "True\n",
      "700\n",
      "True\n",
      "701\n",
      "True\n",
      "702\n",
      "True\n",
      "703\n",
      "True\n",
      "704\n",
      "True\n",
      "705\n",
      "True\n",
      "706\n",
      "True\n",
      "707\n",
      "True\n",
      "708\n",
      "True\n",
      "709\n",
      "True\n",
      "710\n",
      "True\n",
      "711\n",
      "True\n",
      "712\n",
      "True\n",
      "713\n",
      "True\n",
      "714\n",
      "True\n",
      "715\n",
      "True\n",
      "716\n",
      "True\n",
      "717\n",
      "True\n",
      "718\n",
      "True\n",
      "719\n",
      "True\n",
      "720\n",
      "True\n",
      "721\n",
      "True\n",
      "722\n",
      "True\n",
      "723\n",
      "True\n",
      "724\n",
      "True\n",
      "725\n",
      "True\n",
      "726\n",
      "True\n",
      "727\n",
      "True\n",
      "728\n",
      "True\n",
      "729\n",
      "True\n",
      "730\n",
      "True\n",
      "731\n",
      "True\n",
      "732\n",
      "True\n",
      "733\n",
      "True\n",
      "734\n",
      "True\n",
      "735\n",
      "True\n",
      "736\n",
      "True\n",
      "737\n",
      "True\n",
      "738\n",
      "True\n",
      "739\n",
      "True\n",
      "740\n",
      "True\n",
      "741\n",
      "True\n",
      "742\n",
      "True\n",
      "743\n",
      "True\n",
      "744\n",
      "True\n",
      "745\n"
     ]
    }
   ],
   "source": [
    "i = -1\n",
    "for x in lil.duplicated():\n",
    "    i += 1\n",
    "    if x == True:\n",
    "        print(x)\n",
    "        print(i)"
   ]
  },
  {
   "cell_type": "code",
   "execution_count": null,
   "id": "c728ba88",
   "metadata": {},
   "outputs": [],
   "source": []
  },
  {
   "cell_type": "markdown",
   "id": "fe9d8a0d",
   "metadata": {},
   "source": [
    "## 3: Visualization"
   ]
  },
  {
   "cell_type": "code",
   "execution_count": null,
   "id": "aa9063d3",
   "metadata": {},
   "outputs": [],
   "source": []
  },
  {
   "cell_type": "markdown",
   "id": "43cce0d4",
   "metadata": {},
   "source": [
    "## 4: Conclusions"
   ]
  },
  {
   "cell_type": "code",
   "execution_count": null,
   "id": "d14db94c",
   "metadata": {},
   "outputs": [],
   "source": []
  }
 ],
 "metadata": {
  "kernelspec": {
   "display_name": "Python 3 (ipykernel)",
   "language": "python",
   "name": "python3"
  },
  "language_info": {
   "codemirror_mode": {
    "name": "ipython",
    "version": 3
   },
   "file_extension": ".py",
   "mimetype": "text/x-python",
   "name": "python",
   "nbconvert_exporter": "python",
   "pygments_lexer": "ipython3",
   "version": "3.9.12"
  }
 },
 "nbformat": 4,
 "nbformat_minor": 5
}
