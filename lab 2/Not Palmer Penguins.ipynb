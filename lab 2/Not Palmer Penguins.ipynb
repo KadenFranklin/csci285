{
 "cells": [
  {
   "cell_type": "markdown",
   "id": "2d06a641",
   "metadata": {},
   "source": [
    "# Lab 2: Data Visualization\n",
    "\n",
    "https://hendrix-cs.github.io/csci285/labs/visualization.html"
   ]
  },
  {
   "cell_type": "code",
   "execution_count": 73,
   "id": "d5ff1acb",
   "metadata": {},
   "outputs": [],
   "source": [
    "import pandas as pd\n",
    "import seaborn as sns\n",
    "pd.set_option('display.max_columns', None)\n",
    "%matplotlib inline\n",
    "sns.set_theme()"
   ]
  },
  {
   "cell_type": "markdown",
   "id": "6bcbf759",
   "metadata": {},
   "source": [
    "## 1: Data Gathering"
   ]
  },
  {
   "cell_type": "markdown",
   "id": "71aef221",
   "metadata": {},
   "source": [
    "I will be using the Parks Volunteer Program Hours and Savings dataset. \n",
    "\n",
    "Retrieved from:https://data.littlerock.gov/Quality-of-Life/Parks-Volunteer-Program-Hours-and-Savings/5yzr-wmzh\n",
    "\n",
    "An 'Open data portal' for the city of little rock. \n",
    "\n",
    "This dataset contains columns for:\n",
    "\n",
    "\n",
    "Program Name - Object\n",
    "\n",
    "Volunteer Count - int64\n",
    "\n",
    "Volunteer Hours - Object\t\n",
    "\n",
    "Departmental Savings - Object\n",
    "\n",
    "Date - Object"
   ]
  },
  {
   "cell_type": "code",
   "execution_count": 74,
   "id": "cec08083",
   "metadata": {
    "scrolled": false
   },
   "outputs": [
    {
     "name": "stdout",
     "output_type": "stream",
     "text": [
      "<bound method NDFrame.head of                                   Program Name  Volunteer Count  \\\n",
      "0     Active & Aging - Dunbar Community Center                4   \n",
      "1    Active & Aging - East LR Community Center               10   \n",
      "2         Active & Aging - SW Community Center               29   \n",
      "3                  Adopt-A-Flowerbed - Allsopp                1   \n",
      "4                   Adopt-A-Flowerbed - Butler                1   \n",
      "..                                         ...              ...   \n",
      "741                  Stephens Community Center               15   \n",
      "742              The Centre at University Park                1   \n",
      "743                     Therapeutic Recreation                1   \n",
      "744                      Volunteer Park Ranger               18   \n",
      "745              West Central Community Center                0   \n",
      "\n",
      "    Volunteer Hours Departmental Savings        Date  \n",
      "0                 0                    0  09/30/2020  \n",
      "1                 0                    0  09/30/2020  \n",
      "2                 0                    0  09/30/2020  \n",
      "3                 8               163.92  09/30/2020  \n",
      "4                 0                    0  09/30/2020  \n",
      "..              ...                  ...         ...  \n",
      "741               0                    0  02/28/2021  \n",
      "742               0                    0  02/28/2021  \n",
      "743               0                    0  02/28/2021  \n",
      "744          164.25           3,542.8725  02/28/2021  \n",
      "745               0                    0  02/28/2021  \n",
      "\n",
      "[746 rows x 5 columns]>\n"
     ]
    }
   ],
   "source": [
    "lil = pd.read_csv(\"Parks_Volunteer_Program_Hours_and_Savings.csv\")\n",
    "print(lil.head)"
   ]
  },
  {
   "cell_type": "markdown",
   "id": "d2d6044d",
   "metadata": {},
   "source": [
    "## 2: Analysis"
   ]
  },
  {
   "cell_type": "markdown",
   "id": "f4b77ce5",
   "metadata": {},
   "source": [
    "We can also infer some more about our dataset w/ use of the .nunique command:"
   ]
  },
  {
   "cell_type": "code",
   "execution_count": 75,
   "id": "841c0195",
   "metadata": {},
   "outputs": [
    {
     "data": {
      "text/plain": [
       "Program Name             67\n",
       "Volunteer Count          28\n",
       "Volunteer Hours         138\n",
       "Departmental Savings    146\n",
       "Date                     13\n",
       "dtype: int64"
      ]
     },
     "execution_count": 75,
     "metadata": {},
     "output_type": "execute_result"
    }
   ],
   "source": [
    "lil.nunique()"
   ]
  },
  {
   "cell_type": "markdown",
   "id": "38ead7d8",
   "metadata": {},
   "source": [
    "Our dataset is a little rough around the edges, It does not even appear on one line on my machine, the following code block will clean it up a bit.\n",
    "\n",
    "Specifically I will rename the corresponding columns; \n",
    "\n",
    "(Program Name, Program) \n",
    "\n",
    "(Volunteer Count, Volunteer #) \n",
    "\n",
    "(Volunteer Hours, Volunteer hrs)\n",
    "\n",
    "(Departmental Savings, Dep. Sav.)"
   ]
  },
  {
   "cell_type": "code",
   "execution_count": 76,
   "id": "87cc7e13",
   "metadata": {},
   "outputs": [],
   "source": [
    "lil.columns = [x.lower() for x in lil.columns]"
   ]
  },
  {
   "cell_type": "code",
   "execution_count": 77,
   "id": "0ed1ff1e",
   "metadata": {},
   "outputs": [],
   "source": [
    "lil = lil.rename(columns={\"program name\": \"program\", \"volunteer count\": \"volunteer #\", \"volunteer hours\": \"volunteer hrs\", \"departmental savings\": \"dep. sav.\"})"
   ]
  },
  {
   "cell_type": "code",
   "execution_count": 78,
   "id": "ef2e507e",
   "metadata": {
    "scrolled": true
   },
   "outputs": [
    {
     "data": {
      "text/html": [
       "<div>\n",
       "<style scoped>\n",
       "    .dataframe tbody tr th:only-of-type {\n",
       "        vertical-align: middle;\n",
       "    }\n",
       "\n",
       "    .dataframe tbody tr th {\n",
       "        vertical-align: top;\n",
       "    }\n",
       "\n",
       "    .dataframe thead th {\n",
       "        text-align: right;\n",
       "    }\n",
       "</style>\n",
       "<table border=\"1\" class=\"dataframe\">\n",
       "  <thead>\n",
       "    <tr style=\"text-align: right;\">\n",
       "      <th></th>\n",
       "      <th>program</th>\n",
       "      <th>volunteer #</th>\n",
       "      <th>volunteer hrs</th>\n",
       "      <th>dep. sav.</th>\n",
       "      <th>date</th>\n",
       "    </tr>\n",
       "  </thead>\n",
       "  <tbody>\n",
       "    <tr>\n",
       "      <th>0</th>\n",
       "      <td>Active &amp; Aging - Dunbar Community Center</td>\n",
       "      <td>4</td>\n",
       "      <td>0</td>\n",
       "      <td>0</td>\n",
       "      <td>09/30/2020</td>\n",
       "    </tr>\n",
       "    <tr>\n",
       "      <th>1</th>\n",
       "      <td>Active &amp; Aging - East LR Community Center</td>\n",
       "      <td>10</td>\n",
       "      <td>0</td>\n",
       "      <td>0</td>\n",
       "      <td>09/30/2020</td>\n",
       "    </tr>\n",
       "    <tr>\n",
       "      <th>2</th>\n",
       "      <td>Active &amp; Aging - SW Community Center</td>\n",
       "      <td>29</td>\n",
       "      <td>0</td>\n",
       "      <td>0</td>\n",
       "      <td>09/30/2020</td>\n",
       "    </tr>\n",
       "    <tr>\n",
       "      <th>3</th>\n",
       "      <td>Adopt-A-Flowerbed - Allsopp</td>\n",
       "      <td>1</td>\n",
       "      <td>8</td>\n",
       "      <td>163.92</td>\n",
       "      <td>09/30/2020</td>\n",
       "    </tr>\n",
       "    <tr>\n",
       "      <th>4</th>\n",
       "      <td>Adopt-A-Flowerbed - Butler</td>\n",
       "      <td>1</td>\n",
       "      <td>0</td>\n",
       "      <td>0</td>\n",
       "      <td>09/30/2020</td>\n",
       "    </tr>\n",
       "  </tbody>\n",
       "</table>\n",
       "</div>"
      ],
      "text/plain": [
       "                                     program  volunteer # volunteer hrs  \\\n",
       "0   Active & Aging - Dunbar Community Center            4             0   \n",
       "1  Active & Aging - East LR Community Center           10             0   \n",
       "2       Active & Aging - SW Community Center           29             0   \n",
       "3                Adopt-A-Flowerbed - Allsopp            1             8   \n",
       "4                 Adopt-A-Flowerbed - Butler            1             0   \n",
       "\n",
       "  dep. sav.        date  \n",
       "0         0  09/30/2020  \n",
       "1         0  09/30/2020  \n",
       "2         0  09/30/2020  \n",
       "3    163.92  09/30/2020  \n",
       "4         0  09/30/2020  "
      ]
     },
     "execution_count": 78,
     "metadata": {},
     "output_type": "execute_result"
    }
   ],
   "source": [
    "lil.head()"
   ]
  },
  {
   "cell_type": "markdown",
   "id": "49ef0395",
   "metadata": {},
   "source": [
    "Much Better!\n",
    "\n",
    "Now we shall check if our dataset contains any duplicate rows."
   ]
  },
  {
   "cell_type": "code",
   "execution_count": 79,
   "id": "5c8c04e0",
   "metadata": {},
   "outputs": [
    {
     "data": {
      "text/plain": [
       "0      False\n",
       "1      False\n",
       "2      False\n",
       "3      False\n",
       "4      False\n",
       "       ...  \n",
       "741     True\n",
       "742     True\n",
       "743     True\n",
       "744     True\n",
       "745     True\n",
       "Length: 746, dtype: bool"
      ]
     },
     "execution_count": 79,
     "metadata": {},
     "output_type": "execute_result"
    }
   ],
   "source": [
    "lil.duplicated()"
   ]
  },
  {
   "cell_type": "markdown",
   "id": "1ffee942",
   "metadata": {},
   "source": [
    "Oh boy thats quite a few, lets clean them up."
   ]
  },
  {
   "cell_type": "code",
   "execution_count": 80,
   "id": "0b100fd8",
   "metadata": {},
   "outputs": [],
   "source": [
    "lil_list = []\n",
    "i = -1\n",
    "for x in lil.duplicated():\n",
    "    i += 1\n",
    "    if x == True:\n",
    "        lil_list.append(i)\n",
    "        \n",
    "lil = lil.drop(labels = lil_list, axis = 0 )"
   ]
  },
  {
   "cell_type": "code",
   "execution_count": 81,
   "id": "09548752",
   "metadata": {},
   "outputs": [
    {
     "data": {
      "text/plain": [
       "0      False\n",
       "1      False\n",
       "2      False\n",
       "3      False\n",
       "4      False\n",
       "       ...  \n",
       "681    False\n",
       "682    False\n",
       "683    False\n",
       "684    False\n",
       "685    False\n",
       "Length: 686, dtype: bool"
      ]
     },
     "execution_count": 81,
     "metadata": {},
     "output_type": "execute_result"
    }
   ],
   "source": [
    "lil.duplicated()"
   ]
  },
  {
   "cell_type": "markdown",
   "id": "b4b4471c",
   "metadata": {},
   "source": [
    "While were at it, we should remove all of the comments in the dataset aswell."
   ]
  },
  {
   "cell_type": "code",
   "execution_count": 82,
   "id": "ef1758a3",
   "metadata": {},
   "outputs": [],
   "source": [
    "lil.replace(',','', regex=True, inplace=True)"
   ]
  },
  {
   "cell_type": "code",
   "execution_count": 83,
   "id": "da829129",
   "metadata": {},
   "outputs": [
    {
     "data": {
      "text/html": [
       "<div>\n",
       "<style scoped>\n",
       "    .dataframe tbody tr th:only-of-type {\n",
       "        vertical-align: middle;\n",
       "    }\n",
       "\n",
       "    .dataframe tbody tr th {\n",
       "        vertical-align: top;\n",
       "    }\n",
       "\n",
       "    .dataframe thead th {\n",
       "        text-align: right;\n",
       "    }\n",
       "</style>\n",
       "<table border=\"1\" class=\"dataframe\">\n",
       "  <thead>\n",
       "    <tr style=\"text-align: right;\">\n",
       "      <th></th>\n",
       "      <th>program</th>\n",
       "      <th>volunteer #</th>\n",
       "      <th>volunteer hrs</th>\n",
       "      <th>dep. sav.</th>\n",
       "      <th>date</th>\n",
       "    </tr>\n",
       "  </thead>\n",
       "  <tbody>\n",
       "    <tr>\n",
       "      <th>0</th>\n",
       "      <td>Active &amp; Aging - Dunbar Community Center</td>\n",
       "      <td>4</td>\n",
       "      <td>0</td>\n",
       "      <td>0</td>\n",
       "      <td>09/30/2020</td>\n",
       "    </tr>\n",
       "    <tr>\n",
       "      <th>1</th>\n",
       "      <td>Active &amp; Aging - East LR Community Center</td>\n",
       "      <td>10</td>\n",
       "      <td>0</td>\n",
       "      <td>0</td>\n",
       "      <td>09/30/2020</td>\n",
       "    </tr>\n",
       "    <tr>\n",
       "      <th>2</th>\n",
       "      <td>Active &amp; Aging - SW Community Center</td>\n",
       "      <td>29</td>\n",
       "      <td>0</td>\n",
       "      <td>0</td>\n",
       "      <td>09/30/2020</td>\n",
       "    </tr>\n",
       "    <tr>\n",
       "      <th>3</th>\n",
       "      <td>Adopt-A-Flowerbed - Allsopp</td>\n",
       "      <td>1</td>\n",
       "      <td>8</td>\n",
       "      <td>163.92</td>\n",
       "      <td>09/30/2020</td>\n",
       "    </tr>\n",
       "    <tr>\n",
       "      <th>4</th>\n",
       "      <td>Adopt-A-Flowerbed - Butler</td>\n",
       "      <td>1</td>\n",
       "      <td>0</td>\n",
       "      <td>0</td>\n",
       "      <td>09/30/2020</td>\n",
       "    </tr>\n",
       "  </tbody>\n",
       "</table>\n",
       "</div>"
      ],
      "text/plain": [
       "                                     program  volunteer # volunteer hrs  \\\n",
       "0   Active & Aging - Dunbar Community Center            4             0   \n",
       "1  Active & Aging - East LR Community Center           10             0   \n",
       "2       Active & Aging - SW Community Center           29             0   \n",
       "3                Adopt-A-Flowerbed - Allsopp            1             8   \n",
       "4                 Adopt-A-Flowerbed - Butler            1             0   \n",
       "\n",
       "  dep. sav.        date  \n",
       "0         0  09/30/2020  \n",
       "1         0  09/30/2020  \n",
       "2         0  09/30/2020  \n",
       "3    163.92  09/30/2020  \n",
       "4         0  09/30/2020  "
      ]
     },
     "execution_count": 83,
     "metadata": {},
     "output_type": "execute_result"
    }
   ],
   "source": [
    "lil.head()"
   ]
  },
  {
   "cell_type": "markdown",
   "id": "fe9d8a0d",
   "metadata": {},
   "source": [
    "## 3: Visualization\n",
    "\n",
    "### HISTOGRAMS"
   ]
  },
  {
   "cell_type": "code",
   "execution_count": null,
   "id": "2fb74e33",
   "metadata": {},
   "outputs": [],
   "source": []
  },
  {
   "cell_type": "markdown",
   "id": "0fd1c241",
   "metadata": {},
   "source": [
    "### SCATTER PLOTS"
   ]
  },
  {
   "cell_type": "code",
   "execution_count": 86,
   "id": "653e2e79",
   "metadata": {},
   "outputs": [
    {
     "data": {
      "image/png": "[encoded data removed]",
      "text/plain": [
       "<Figure size 432x288 with 1 Axes>"
      ]
     },
     "metadata": {},
     "output_type": "display_data"
    }
   ],
   "source": [
    "#scatter = sns.relplot(\n",
    "#    data=lil, \n",
    "#    x=\"departmental savings\", \n",
    "#    y=\"volunteer hours\", \n",
    "#    kind=\"scatter\",\n",
    "#    height=7,\n",
    "#    aspect=1.5, \n",
    "#    hue=\"species\",\n",
    "#    style=\"species\",\n",
    "#).set(\n",
    "#    title=\"Departmental savings plotted against volunteer hours\"\n",
    "#)\n",
    "\n",
    "\n",
    "plot = sns.scatterplot(\n",
    "    data = lil,\n",
    "    x = lil['dep. sav.'],\n",
    "    y = lil['volunteer hrs'],\n",
    "    markers = True\n",
    ")"
   ]
  },
  {
   "cell_type": "code",
   "execution_count": 87,
   "id": "ec264d46",
   "metadata": {},
   "outputs": [
    {
     "data": {
      "image/png": "[encoded data removed]",
      "text/plain": [
       "<Figure size 432x288 with 1 Axes>"
      ]
     },
     "metadata": {},
     "output_type": "display_data"
    }
   ],
   "source": [
    " plot = sns.scatterplot(\n",
    "    data = lil,\n",
    "    x = lil['dep. sav.'],\n",
    "    y = lil['volunteer #'],\n",
    "    markers = True\n",
    ")"
   ]
  },
  {
   "cell_type": "markdown",
   "id": "74ba094b",
   "metadata": {},
   "source": [
    "### FURTHER PLOTTING"
   ]
  },
  {
   "cell_type": "code",
   "execution_count": null,
   "id": "17ff00f3",
   "metadata": {},
   "outputs": [],
   "source": []
  },
  {
   "cell_type": "markdown",
   "id": "43cce0d4",
   "metadata": {},
   "source": [
    "## 4: Conclusions"
   ]
  },
  {
   "cell_type": "code",
   "execution_count": null,
   "id": "d14db94c",
   "metadata": {},
   "outputs": [],
   "source": []
  }
 ],
 "metadata": {
  "kernelspec": {
   "display_name": "Python 3 (ipykernel)",
   "language": "python",
   "name": "python3"
  },
  "language_info": {
   "codemirror_mode": {
    "name": "ipython",
    "version": 3
   },
   "file_extension": ".py",
   "mimetype": "text/x-python",
   "name": "python",
   "nbconvert_exporter": "python",
   "pygments_lexer": "ipython3",
   "version": "3.9.12"
  }
 },
 "nbformat": 4,
 "nbformat_minor": 5
}
