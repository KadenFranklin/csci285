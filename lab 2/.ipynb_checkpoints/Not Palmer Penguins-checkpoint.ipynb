{
 "cells": [
  {
   "cell_type": "markdown",
   "id": "2d06a641",
   "metadata": {},
   "source": [
    "# Lab 2: Data Visualization"
   ]
  },
  {
   "cell_type": "code",
   "execution_count": 86,
   "id": "d5ff1acb",
   "metadata": {},
   "outputs": [],
   "source": [
    "import pandas as pd\n",
    "import seaborn as sns\n",
    "pd.set_option('display.max_columns', None)\n",
    "%matplotlib inline\n",
    "sns.set_theme()"
   ]
  },
  {
   "cell_type": "markdown",
   "id": "6bcbf759",
   "metadata": {},
   "source": [
    "## 1: Data Gathering"
   ]
  },
  {
   "cell_type": "markdown",
   "id": "71aef221",
   "metadata": {},
   "source": [
    "I will be using the Parks Volunteer Program Hours and Savings dataset. \n",
    "\n",
    "Retrieved from:https://data.littlerock.gov/Quality-of-Life/Parks-Volunteer-Program-Hours-and-Savings/5yzr-wmzh\n",
    "\n",
    "An 'Open data portal' for the city of little rock. \n",
    "\n",
    "This dataset contains columns for:\n",
    "\n",
    "\n",
    "Program Name - Object\n",
    "\n",
    "Volunteer Count - int64\n",
    "\n",
    "Volunteer Hours - Object\t\n",
    "\n",
    "Departmental Savings - Object\n",
    "\n",
    "Date - Object"
   ]
  },
  {
   "cell_type": "code",
   "execution_count": 95,
   "id": "cec08083",
   "metadata": {
    "scrolled": false
   },
   "outputs": [
    {
     "name": "stdout",
     "output_type": "stream",
     "text": [
      "<bound method NDFrame.head of                                   Program Name  Volunteer Count  \\\n",
      "0     Active & Aging - Dunbar Community Center                4   \n",
      "1    Active & Aging - East LR Community Center               10   \n",
      "2         Active & Aging - SW Community Center               29   \n",
      "3                  Adopt-A-Flowerbed - Allsopp                1   \n",
      "4                   Adopt-A-Flowerbed - Butler                1   \n",
      "..                                         ...              ...   \n",
      "741                  Stephens Community Center               15   \n",
      "742              The Centre at University Park                1   \n",
      "743                     Therapeutic Recreation                1   \n",
      "744                      Volunteer Park Ranger               18   \n",
      "745              West Central Community Center                0   \n",
      "\n",
      "    Volunteer Hours Departmental Savings        Date  \n",
      "0                 0                    0  09/30/2020  \n",
      "1                 0                    0  09/30/2020  \n",
      "2                 0                    0  09/30/2020  \n",
      "3                 8               163.92  09/30/2020  \n",
      "4                 0                    0  09/30/2020  \n",
      "..              ...                  ...         ...  \n",
      "741               0                    0  02/28/2021  \n",
      "742               0                    0  02/28/2021  \n",
      "743               0                    0  02/28/2021  \n",
      "744          164.25           3,542.8725  02/28/2021  \n",
      "745               0                    0  02/28/2021  \n",
      "\n",
      "[746 rows x 5 columns]>\n"
     ]
    }
   ],
   "source": [
    "lil = pd.read_csv(\"Parks_Volunteer_Program_Hours_and_Savings.csv\")\n",
    "print(lil.head)"
   ]
  },
  {
   "cell_type": "markdown",
   "id": "d2d6044d",
   "metadata": {},
   "source": [
    "## 2: Analysis"
   ]
  },
  {
   "cell_type": "markdown",
   "id": "f4b77ce5",
   "metadata": {},
   "source": [
    "We can also infer some more about our dataset w/ use of the .nunique command:"
   ]
  },
  {
   "cell_type": "code",
   "execution_count": 96,
   "id": "841c0195",
   "metadata": {},
   "outputs": [
    {
     "data": {
      "text/plain": [
       "Program Name             67\n",
       "Volunteer Count          28\n",
       "Volunteer Hours         138\n",
       "Departmental Savings    146\n",
       "Date                     13\n",
       "dtype: int64"
      ]
     },
     "execution_count": 96,
     "metadata": {},
     "output_type": "execute_result"
    }
   ],
   "source": [
    "lil.nunique()"
   ]
  },
  {
   "cell_type": "markdown",
   "id": "38ead7d8",
   "metadata": {},
   "source": [
    "Our dataset is a little rough around the edges, It does not even appear on one line on my machine, the following code block will clean it up a bit.\n",
    "\n",
    "Specifically I will rename the corresponding columns; \n",
    "\n",
    "(Program Name, Program) \n",
    "\n",
    "(Volunteer Count, Volunteer #) \n",
    "\n",
    "(Volunteer Hours, Volunteer hrs)\n",
    "\n",
    "(Departmental Savings, Dep. Sav.)"
   ]
  },
  {
   "cell_type": "code",
   "execution_count": 97,
   "id": "0ed1ff1e",
   "metadata": {},
   "outputs": [],
   "source": [
    "lil.rename(columns={\"Program Name\": \"program\", \"Volunteer Count\": \"Volunteer #\", \"Volunteer Hours\": \"Volunteer hrs\", \"Deparmental Savings\": \"Dep. Sav.\"})\n",
    "lil.columns = [x.lower() for x in lil.columns]"
   ]
  },
  {
   "cell_type": "code",
   "execution_count": 98,
   "id": "ef2e507e",
   "metadata": {},
   "outputs": [
    {
     "data": {
      "text/html": [
       "<div>\n",
       "<style scoped>\n",
       "    .dataframe tbody tr th:only-of-type {\n",
       "        vertical-align: middle;\n",
       "    }\n",
       "\n",
       "    .dataframe tbody tr th {\n",
       "        vertical-align: top;\n",
       "    }\n",
       "\n",
       "    .dataframe thead th {\n",
       "        text-align: right;\n",
       "    }\n",
       "</style>\n",
       "<table border=\"1\" class=\"dataframe\">\n",
       "  <thead>\n",
       "    <tr style=\"text-align: right;\">\n",
       "      <th></th>\n",
       "      <th>program name</th>\n",
       "      <th>volunteer count</th>\n",
       "      <th>volunteer hours</th>\n",
       "      <th>departmental savings</th>\n",
       "      <th>date</th>\n",
       "    </tr>\n",
       "  </thead>\n",
       "  <tbody>\n",
       "    <tr>\n",
       "      <th>0</th>\n",
       "      <td>Active &amp; Aging - Dunbar Community Center</td>\n",
       "      <td>4</td>\n",
       "      <td>0</td>\n",
       "      <td>0</td>\n",
       "      <td>09/30/2020</td>\n",
       "    </tr>\n",
       "    <tr>\n",
       "      <th>1</th>\n",
       "      <td>Active &amp; Aging - East LR Community Center</td>\n",
       "      <td>10</td>\n",
       "      <td>0</td>\n",
       "      <td>0</td>\n",
       "      <td>09/30/2020</td>\n",
       "    </tr>\n",
       "    <tr>\n",
       "      <th>2</th>\n",
       "      <td>Active &amp; Aging - SW Community Center</td>\n",
       "      <td>29</td>\n",
       "      <td>0</td>\n",
       "      <td>0</td>\n",
       "      <td>09/30/2020</td>\n",
       "    </tr>\n",
       "    <tr>\n",
       "      <th>3</th>\n",
       "      <td>Adopt-A-Flowerbed - Allsopp</td>\n",
       "      <td>1</td>\n",
       "      <td>8</td>\n",
       "      <td>163.92</td>\n",
       "      <td>09/30/2020</td>\n",
       "    </tr>\n",
       "    <tr>\n",
       "      <th>4</th>\n",
       "      <td>Adopt-A-Flowerbed - Butler</td>\n",
       "      <td>1</td>\n",
       "      <td>0</td>\n",
       "      <td>0</td>\n",
       "      <td>09/30/2020</td>\n",
       "    </tr>\n",
       "  </tbody>\n",
       "</table>\n",
       "</div>"
      ],
      "text/plain": [
       "                                program name  volunteer count volunteer hours  \\\n",
       "0   Active & Aging - Dunbar Community Center                4               0   \n",
       "1  Active & Aging - East LR Community Center               10               0   \n",
       "2       Active & Aging - SW Community Center               29               0   \n",
       "3                Adopt-A-Flowerbed - Allsopp                1               8   \n",
       "4                 Adopt-A-Flowerbed - Butler                1               0   \n",
       "\n",
       "  departmental savings        date  \n",
       "0                    0  09/30/2020  \n",
       "1                    0  09/30/2020  \n",
       "2                    0  09/30/2020  \n",
       "3               163.92  09/30/2020  \n",
       "4                    0  09/30/2020  "
      ]
     },
     "execution_count": 98,
     "metadata": {},
     "output_type": "execute_result"
    }
   ],
   "source": [
    "lil.head()"
   ]
  },
  {
   "cell_type": "markdown",
   "id": "49ef0395",
   "metadata": {},
   "source": [
    "Much Better!\n",
    "\n",
    "Now we shall check if our dataset contains any duplicate rows."
   ]
  },
  {
   "cell_type": "code",
   "execution_count": 99,
   "id": "5c8c04e0",
   "metadata": {},
   "outputs": [
    {
     "data": {
      "text/plain": [
       "0      False\n",
       "1      False\n",
       "2      False\n",
       "3      False\n",
       "4      False\n",
       "       ...  \n",
       "741     True\n",
       "742     True\n",
       "743     True\n",
       "744     True\n",
       "745     True\n",
       "Length: 746, dtype: bool"
      ]
     },
     "execution_count": 99,
     "metadata": {},
     "output_type": "execute_result"
    }
   ],
   "source": [
    "lil.duplicated()"
   ]
  },
  {
   "cell_type": "markdown",
   "id": "1ffee942",
   "metadata": {},
   "source": [
    "Oh boy thats quite a few, lets clean them up."
   ]
  },
  {
   "cell_type": "code",
   "execution_count": 100,
   "id": "0b100fd8",
   "metadata": {},
   "outputs": [],
   "source": [
    "lil_list = []\n",
    "i = -1\n",
    "for x in lil.duplicated():\n",
    "    i += 1\n",
    "    if x == True:\n",
    "        lil_list.append(i)\n",
    "        \n",
    "lil = lil.drop(labels = lil_list, axis = 0 )"
   ]
  },
  {
   "cell_type": "code",
   "execution_count": 101,
   "id": "09548752",
   "metadata": {},
   "outputs": [
    {
     "data": {
      "text/plain": [
       "0      False\n",
       "1      False\n",
       "2      False\n",
       "3      False\n",
       "4      False\n",
       "       ...  \n",
       "681    False\n",
       "682    False\n",
       "683    False\n",
       "684    False\n",
       "685    False\n",
       "Length: 686, dtype: bool"
      ]
     },
     "execution_count": 101,
     "metadata": {},
     "output_type": "execute_result"
    }
   ],
   "source": [
    "lil.duplicated()"
   ]
  },
  {
   "cell_type": "markdown",
   "id": "b4b4471c",
   "metadata": {},
   "source": [
    "While were at it, we should remove all of the comments in the dataset aswell."
   ]
  },
  {
   "cell_type": "code",
   "execution_count": 102,
   "id": "ef1758a3",
   "metadata": {},
   "outputs": [],
   "source": [
    "lil = lil.replace(',','', regex=True, inplace=True)"
   ]
  },
  {
   "cell_type": "markdown",
   "id": "fe9d8a0d",
   "metadata": {},
   "source": [
    "## 3: Visualization"
   ]
  },
  {
   "cell_type": "code",
   "execution_count": 108,
   "id": "653e2e79",
   "metadata": {},
   "outputs": [
    {
     "ename": "AttributeError",
     "evalue": "'NoneType' object has no attribute 'plot'",
     "output_type": "error",
     "traceback": [
      "\u001b[1;31m---------------------------------------------------------------------------\u001b[0m",
      "\u001b[1;31mAttributeError\u001b[0m                            Traceback (most recent call last)",
      "Input \u001b[1;32mIn [108]\u001b[0m, in \u001b[0;36m<cell line: 3>\u001b[1;34m()\u001b[0m\n\u001b[0;32m      1\u001b[0m \u001b[38;5;66;03m# See https://seaborn.pydata.org/tutorial/regression.html for a deeper treatment on linear regressions with seaborn\u001b[39;00m\n\u001b[1;32m----> 3\u001b[0m \u001b[43mlil\u001b[49m\u001b[38;5;241;43m.\u001b[39;49m\u001b[43mplot\u001b[49m\u001b[38;5;241m.\u001b[39mscatter(x \u001b[38;5;241m=\u001b[39m \u001b[38;5;241m1\u001b[39m, y \u001b[38;5;241m=\u001b[39m \u001b[38;5;241m10\u001b[39m)\n",
      "\u001b[1;31mAttributeError\u001b[0m: 'NoneType' object has no attribute 'plot'"
     ]
    }
   ],
   "source": [
    "# See https://seaborn.pydata.org/tutorial/regression.html for a deeper treatment on linear regressions with seaborn\n",
    "\n",
    "lil.plot.scatter(x = 1, y = 10)\n"
   ]
  },
  {
   "cell_type": "code",
   "execution_count": 83,
   "id": "ec264d46",
   "metadata": {},
   "outputs": [
    {
     "ename": "ValueError",
     "evalue": "Could not interpret value `departmental savings` for parameter `x`",
     "output_type": "error",
     "traceback": [
      "\u001b[1;31m---------------------------------------------------------------------------\u001b[0m",
      "\u001b[1;31mValueError\u001b[0m                                Traceback (most recent call last)",
      "Input \u001b[1;32mIn [83]\u001b[0m, in \u001b[0;36m<cell line: 1>\u001b[1;34m()\u001b[0m\n\u001b[1;32m----> 1\u001b[0m scatter \u001b[38;5;241m=\u001b[39m \u001b[43msns\u001b[49m\u001b[38;5;241;43m.\u001b[39;49m\u001b[43mrelplot\u001b[49m\u001b[43m(\u001b[49m\n\u001b[0;32m      2\u001b[0m \u001b[43m    \u001b[49m\u001b[43mdata\u001b[49m\u001b[38;5;241;43m=\u001b[39;49m\u001b[43mlil\u001b[49m\u001b[43m,\u001b[49m\u001b[43m \u001b[49m\n\u001b[0;32m      3\u001b[0m \u001b[43m    \u001b[49m\u001b[43mx\u001b[49m\u001b[38;5;241;43m=\u001b[39;49m\u001b[38;5;124;43m\"\u001b[39;49m\u001b[38;5;124;43mdepartmental savings\u001b[39;49m\u001b[38;5;124;43m\"\u001b[39;49m\u001b[43m,\u001b[49m\u001b[43m \u001b[49m\n\u001b[0;32m      4\u001b[0m \u001b[43m    \u001b[49m\u001b[43my\u001b[49m\u001b[38;5;241;43m=\u001b[39;49m\u001b[38;5;124;43m\"\u001b[39;49m\u001b[38;5;124;43mvolunteer hours\u001b[39;49m\u001b[38;5;124;43m\"\u001b[39;49m\u001b[43m,\u001b[49m\u001b[43m \u001b[49m\n\u001b[0;32m      5\u001b[0m \u001b[43m    \u001b[49m\u001b[43mkind\u001b[49m\u001b[38;5;241;43m=\u001b[39;49m\u001b[38;5;124;43m\"\u001b[39;49m\u001b[38;5;124;43mscatter\u001b[39;49m\u001b[38;5;124;43m\"\u001b[39;49m\u001b[43m,\u001b[49m\n\u001b[0;32m      6\u001b[0m \u001b[43m    \u001b[49m\u001b[43mheight\u001b[49m\u001b[38;5;241;43m=\u001b[39;49m\u001b[38;5;241;43m7\u001b[39;49m\u001b[43m,\u001b[49m\n\u001b[0;32m      7\u001b[0m \u001b[43m    \u001b[49m\u001b[43maspect\u001b[49m\u001b[38;5;241;43m=\u001b[39;49m\u001b[38;5;241;43m1.5\u001b[39;49m\u001b[43m,\u001b[49m\u001b[43m \u001b[49m\n\u001b[0;32m      8\u001b[0m \u001b[43m    \u001b[49m\u001b[43mhue\u001b[49m\u001b[38;5;241;43m=\u001b[39;49m\u001b[38;5;124;43m\"\u001b[39;49m\u001b[38;5;124;43mspecies\u001b[39;49m\u001b[38;5;124;43m\"\u001b[39;49m\u001b[43m,\u001b[49m\n\u001b[0;32m      9\u001b[0m \u001b[43m    \u001b[49m\u001b[43mstyle\u001b[49m\u001b[38;5;241;43m=\u001b[39;49m\u001b[38;5;124;43m\"\u001b[39;49m\u001b[38;5;124;43mspecies\u001b[39;49m\u001b[38;5;124;43m\"\u001b[39;49m\u001b[43m,\u001b[49m\n\u001b[0;32m     10\u001b[0m \u001b[43m)\u001b[49m\u001b[38;5;241m.\u001b[39mset(\n\u001b[0;32m     11\u001b[0m     title\u001b[38;5;241m=\u001b[39m\u001b[38;5;124m\"\u001b[39m\u001b[38;5;124mDepartmental savings plotted against volunteer hours\u001b[39m\u001b[38;5;124m\"\u001b[39m\n\u001b[0;32m     12\u001b[0m )\n",
      "File \u001b[1;32mC:\\ProgramData\\Anaconda3\\lib\\site-packages\\seaborn\\_decorators.py:46\u001b[0m, in \u001b[0;36m_deprecate_positional_args.<locals>.inner_f\u001b[1;34m(*args, **kwargs)\u001b[0m\n\u001b[0;32m     36\u001b[0m     warnings\u001b[38;5;241m.\u001b[39mwarn(\n\u001b[0;32m     37\u001b[0m         \u001b[38;5;124m\"\u001b[39m\u001b[38;5;124mPass the following variable\u001b[39m\u001b[38;5;132;01m{}\u001b[39;00m\u001b[38;5;124m as \u001b[39m\u001b[38;5;132;01m{}\u001b[39;00m\u001b[38;5;124mkeyword arg\u001b[39m\u001b[38;5;132;01m{}\u001b[39;00m\u001b[38;5;124m: \u001b[39m\u001b[38;5;132;01m{}\u001b[39;00m\u001b[38;5;124m. \u001b[39m\u001b[38;5;124m\"\u001b[39m\n\u001b[0;32m     38\u001b[0m         \u001b[38;5;124m\"\u001b[39m\u001b[38;5;124mFrom version 0.12, the only valid positional argument \u001b[39m\u001b[38;5;124m\"\u001b[39m\n\u001b[1;32m   (...)\u001b[0m\n\u001b[0;32m     43\u001b[0m         \u001b[38;5;167;01mFutureWarning\u001b[39;00m\n\u001b[0;32m     44\u001b[0m     )\n\u001b[0;32m     45\u001b[0m kwargs\u001b[38;5;241m.\u001b[39mupdate({k: arg \u001b[38;5;28;01mfor\u001b[39;00m k, arg \u001b[38;5;129;01min\u001b[39;00m \u001b[38;5;28mzip\u001b[39m(sig\u001b[38;5;241m.\u001b[39mparameters, args)})\n\u001b[1;32m---> 46\u001b[0m \u001b[38;5;28;01mreturn\u001b[39;00m f(\u001b[38;5;241m*\u001b[39m\u001b[38;5;241m*\u001b[39mkwargs)\n",
      "File \u001b[1;32mC:\\ProgramData\\Anaconda3\\lib\\site-packages\\seaborn\\relational.py:947\u001b[0m, in \u001b[0;36mrelplot\u001b[1;34m(x, y, hue, size, style, data, row, col, col_wrap, row_order, col_order, palette, hue_order, hue_norm, sizes, size_order, size_norm, markers, dashes, style_order, legend, kind, height, aspect, facet_kws, units, **kwargs)\u001b[0m\n\u001b[0;32m    944\u001b[0m     kwargs\u001b[38;5;241m.\u001b[39mpop(\u001b[38;5;124m\"\u001b[39m\u001b[38;5;124max\u001b[39m\u001b[38;5;124m\"\u001b[39m)\n\u001b[0;32m    946\u001b[0m \u001b[38;5;66;03m# Use the full dataset to map the semantics\u001b[39;00m\n\u001b[1;32m--> 947\u001b[0m p \u001b[38;5;241m=\u001b[39m \u001b[43mplotter\u001b[49m\u001b[43m(\u001b[49m\n\u001b[0;32m    948\u001b[0m \u001b[43m    \u001b[49m\u001b[43mdata\u001b[49m\u001b[38;5;241;43m=\u001b[39;49m\u001b[43mdata\u001b[49m\u001b[43m,\u001b[49m\n\u001b[0;32m    949\u001b[0m \u001b[43m    \u001b[49m\u001b[43mvariables\u001b[49m\u001b[38;5;241;43m=\u001b[39;49m\u001b[43mplotter\u001b[49m\u001b[38;5;241;43m.\u001b[39;49m\u001b[43mget_semantics\u001b[49m\u001b[43m(\u001b[49m\u001b[38;5;28;43mlocals\u001b[39;49m\u001b[43m(\u001b[49m\u001b[43m)\u001b[49m\u001b[43m)\u001b[49m\u001b[43m,\u001b[49m\n\u001b[0;32m    950\u001b[0m \u001b[43m    \u001b[49m\u001b[43mlegend\u001b[49m\u001b[38;5;241;43m=\u001b[39;49m\u001b[43mlegend\u001b[49m\u001b[43m,\u001b[49m\n\u001b[0;32m    951\u001b[0m \u001b[43m\u001b[49m\u001b[43m)\u001b[49m\n\u001b[0;32m    952\u001b[0m p\u001b[38;5;241m.\u001b[39mmap_hue(palette\u001b[38;5;241m=\u001b[39mpalette, order\u001b[38;5;241m=\u001b[39mhue_order, norm\u001b[38;5;241m=\u001b[39mhue_norm)\n\u001b[0;32m    953\u001b[0m p\u001b[38;5;241m.\u001b[39mmap_size(sizes\u001b[38;5;241m=\u001b[39msizes, order\u001b[38;5;241m=\u001b[39msize_order, norm\u001b[38;5;241m=\u001b[39msize_norm)\n",
      "File \u001b[1;32mC:\\ProgramData\\Anaconda3\\lib\\site-packages\\seaborn\\relational.py:587\u001b[0m, in \u001b[0;36m_ScatterPlotter.__init__\u001b[1;34m(self, data, variables, x_bins, y_bins, estimator, ci, n_boot, alpha, x_jitter, y_jitter, legend)\u001b[0m\n\u001b[0;32m    571\u001b[0m \u001b[38;5;28;01mdef\u001b[39;00m \u001b[38;5;21m__init__\u001b[39m(\n\u001b[0;32m    572\u001b[0m     \u001b[38;5;28mself\u001b[39m, \u001b[38;5;241m*\u001b[39m,\n\u001b[0;32m    573\u001b[0m     data\u001b[38;5;241m=\u001b[39m\u001b[38;5;28;01mNone\u001b[39;00m, variables\u001b[38;5;241m=\u001b[39m{},\n\u001b[1;32m   (...)\u001b[0m\n\u001b[0;32m    581\u001b[0m     \u001b[38;5;66;03m# the kind of plot to draw, but for the time being we need to set\u001b[39;00m\n\u001b[0;32m    582\u001b[0m     \u001b[38;5;66;03m# this information so the SizeMapping can use it\u001b[39;00m\n\u001b[0;32m    583\u001b[0m     \u001b[38;5;28mself\u001b[39m\u001b[38;5;241m.\u001b[39m_default_size_range \u001b[38;5;241m=\u001b[39m (\n\u001b[0;32m    584\u001b[0m         np\u001b[38;5;241m.\u001b[39mr_[\u001b[38;5;241m.5\u001b[39m, \u001b[38;5;241m2\u001b[39m] \u001b[38;5;241m*\u001b[39m np\u001b[38;5;241m.\u001b[39msquare(mpl\u001b[38;5;241m.\u001b[39mrcParams[\u001b[38;5;124m\"\u001b[39m\u001b[38;5;124mlines.markersize\u001b[39m\u001b[38;5;124m\"\u001b[39m])\n\u001b[0;32m    585\u001b[0m     )\n\u001b[1;32m--> 587\u001b[0m     \u001b[38;5;28;43msuper\u001b[39;49m\u001b[43m(\u001b[49m\u001b[43m)\u001b[49m\u001b[38;5;241;43m.\u001b[39;49m\u001b[38;5;21;43m__init__\u001b[39;49m\u001b[43m(\u001b[49m\u001b[43mdata\u001b[49m\u001b[38;5;241;43m=\u001b[39;49m\u001b[43mdata\u001b[49m\u001b[43m,\u001b[49m\u001b[43m \u001b[49m\u001b[43mvariables\u001b[49m\u001b[38;5;241;43m=\u001b[39;49m\u001b[43mvariables\u001b[49m\u001b[43m)\u001b[49m\n\u001b[0;32m    589\u001b[0m     \u001b[38;5;28mself\u001b[39m\u001b[38;5;241m.\u001b[39malpha \u001b[38;5;241m=\u001b[39m alpha\n\u001b[0;32m    590\u001b[0m     \u001b[38;5;28mself\u001b[39m\u001b[38;5;241m.\u001b[39mlegend \u001b[38;5;241m=\u001b[39m legend\n",
      "File \u001b[1;32mC:\\ProgramData\\Anaconda3\\lib\\site-packages\\seaborn\\_core.py:605\u001b[0m, in \u001b[0;36mVectorPlotter.__init__\u001b[1;34m(self, data, variables)\u001b[0m\n\u001b[0;32m    603\u001b[0m \u001b[38;5;28;01mdef\u001b[39;00m \u001b[38;5;21m__init__\u001b[39m(\u001b[38;5;28mself\u001b[39m, data\u001b[38;5;241m=\u001b[39m\u001b[38;5;28;01mNone\u001b[39;00m, variables\u001b[38;5;241m=\u001b[39m{}):\n\u001b[1;32m--> 605\u001b[0m     \u001b[38;5;28;43mself\u001b[39;49m\u001b[38;5;241;43m.\u001b[39;49m\u001b[43massign_variables\u001b[49m\u001b[43m(\u001b[49m\u001b[43mdata\u001b[49m\u001b[43m,\u001b[49m\u001b[43m \u001b[49m\u001b[43mvariables\u001b[49m\u001b[43m)\u001b[49m\n\u001b[0;32m    607\u001b[0m     \u001b[38;5;28;01mfor\u001b[39;00m var, \u001b[38;5;28mcls\u001b[39m \u001b[38;5;129;01min\u001b[39;00m \u001b[38;5;28mself\u001b[39m\u001b[38;5;241m.\u001b[39m_semantic_mappings\u001b[38;5;241m.\u001b[39mitems():\n\u001b[0;32m    608\u001b[0m \n\u001b[0;32m    609\u001b[0m         \u001b[38;5;66;03m# Create the mapping function\u001b[39;00m\n\u001b[0;32m    610\u001b[0m         map_func \u001b[38;5;241m=\u001b[39m partial(\u001b[38;5;28mcls\u001b[39m\u001b[38;5;241m.\u001b[39mmap, plotter\u001b[38;5;241m=\u001b[39m\u001b[38;5;28mself\u001b[39m)\n",
      "File \u001b[1;32mC:\\ProgramData\\Anaconda3\\lib\\site-packages\\seaborn\\_core.py:668\u001b[0m, in \u001b[0;36mVectorPlotter.assign_variables\u001b[1;34m(self, data, variables)\u001b[0m\n\u001b[0;32m    666\u001b[0m \u001b[38;5;28;01melse\u001b[39;00m:\n\u001b[0;32m    667\u001b[0m     \u001b[38;5;28mself\u001b[39m\u001b[38;5;241m.\u001b[39minput_format \u001b[38;5;241m=\u001b[39m \u001b[38;5;124m\"\u001b[39m\u001b[38;5;124mlong\u001b[39m\u001b[38;5;124m\"\u001b[39m\n\u001b[1;32m--> 668\u001b[0m     plot_data, variables \u001b[38;5;241m=\u001b[39m \u001b[38;5;28mself\u001b[39m\u001b[38;5;241m.\u001b[39m_assign_variables_longform(\n\u001b[0;32m    669\u001b[0m         data, \u001b[38;5;241m*\u001b[39m\u001b[38;5;241m*\u001b[39mvariables,\n\u001b[0;32m    670\u001b[0m     )\n\u001b[0;32m    672\u001b[0m \u001b[38;5;28mself\u001b[39m\u001b[38;5;241m.\u001b[39mplot_data \u001b[38;5;241m=\u001b[39m plot_data\n\u001b[0;32m    673\u001b[0m \u001b[38;5;28mself\u001b[39m\u001b[38;5;241m.\u001b[39mvariables \u001b[38;5;241m=\u001b[39m variables\n",
      "File \u001b[1;32mC:\\ProgramData\\Anaconda3\\lib\\site-packages\\seaborn\\_core.py:903\u001b[0m, in \u001b[0;36mVectorPlotter._assign_variables_longform\u001b[1;34m(self, data, **kwargs)\u001b[0m\n\u001b[0;32m    898\u001b[0m \u001b[38;5;28;01melif\u001b[39;00m \u001b[38;5;28misinstance\u001b[39m(val, (\u001b[38;5;28mstr\u001b[39m, \u001b[38;5;28mbytes\u001b[39m)):\n\u001b[0;32m    899\u001b[0m \n\u001b[0;32m    900\u001b[0m     \u001b[38;5;66;03m# This looks like a column name but we don't know what it means!\u001b[39;00m\n\u001b[0;32m    902\u001b[0m     err \u001b[38;5;241m=\u001b[39m \u001b[38;5;124mf\u001b[39m\u001b[38;5;124m\"\u001b[39m\u001b[38;5;124mCould not interpret value `\u001b[39m\u001b[38;5;132;01m{\u001b[39;00mval\u001b[38;5;132;01m}\u001b[39;00m\u001b[38;5;124m` for parameter `\u001b[39m\u001b[38;5;132;01m{\u001b[39;00mkey\u001b[38;5;132;01m}\u001b[39;00m\u001b[38;5;124m`\u001b[39m\u001b[38;5;124m\"\u001b[39m\n\u001b[1;32m--> 903\u001b[0m     \u001b[38;5;28;01mraise\u001b[39;00m \u001b[38;5;167;01mValueError\u001b[39;00m(err)\n\u001b[0;32m    905\u001b[0m \u001b[38;5;28;01melse\u001b[39;00m:\n\u001b[0;32m    906\u001b[0m \n\u001b[0;32m    907\u001b[0m     \u001b[38;5;66;03m# Otherwise, assume the value is itself data\u001b[39;00m\n\u001b[0;32m    908\u001b[0m \n\u001b[0;32m    909\u001b[0m     \u001b[38;5;66;03m# Raise when data object is present and a vector can't matched\u001b[39;00m\n\u001b[0;32m    910\u001b[0m     \u001b[38;5;28;01mif\u001b[39;00m \u001b[38;5;28misinstance\u001b[39m(data, pd\u001b[38;5;241m.\u001b[39mDataFrame) \u001b[38;5;129;01mand\u001b[39;00m \u001b[38;5;129;01mnot\u001b[39;00m \u001b[38;5;28misinstance\u001b[39m(val, pd\u001b[38;5;241m.\u001b[39mSeries):\n",
      "\u001b[1;31mValueError\u001b[0m: Could not interpret value `departmental savings` for parameter `x`"
     ]
    }
   ],
   "source": [
    "#scatter = sns.relplot(\n",
    "#    data=lil, \n",
    "#    x=\"departmental savings\", \n",
    "#    y=\"volunteer hours\", \n",
    "#    kind=\"scatter\",\n",
    "#    height=7,\n",
    "#    aspect=1.5, \n",
    "#    hue=\"species\",\n",
    "#    style=\"species\",\n",
    "#).set(\n",
    "#    title=\"Departmental savings plotted against volunteer hours\"\n",
    "#)"
   ]
  },
  {
   "cell_type": "code",
   "execution_count": null,
   "id": "aa9063d3",
   "metadata": {},
   "outputs": [],
   "source": []
  },
  {
   "cell_type": "markdown",
   "id": "43cce0d4",
   "metadata": {},
   "source": [
    "## 4: Conclusions"
   ]
  },
  {
   "cell_type": "code",
   "execution_count": null,
   "id": "d14db94c",
   "metadata": {},
   "outputs": [],
   "source": []
  }
 ],
 "metadata": {
  "kernelspec": {
   "display_name": "Python 3 (ipykernel)",
   "language": "python",
   "name": "python3"
  },
  "language_info": {
   "codemirror_mode": {
    "name": "ipython",
    "version": 3
   },
   "file_extension": ".py",
   "mimetype": "text/x-python",
   "name": "python",
   "nbconvert_exporter": "python",
   "pygments_lexer": "ipython3",
   "version": "3.9.12"
  }
 },
 "nbformat": 4,
 "nbformat_minor": 5
}
