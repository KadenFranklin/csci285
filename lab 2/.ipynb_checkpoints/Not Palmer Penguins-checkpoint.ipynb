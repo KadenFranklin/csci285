{
 "cells": [
  {
   "cell_type": "markdown",
   "id": "2d06a641",
   "metadata": {},
   "source": [
    "# Lab 2: Data Visualization"
   ]
  },
  {
   "cell_type": "code",
   "execution_count": 42,
   "id": "d5ff1acb",
   "metadata": {},
   "outputs": [],
   "source": [
    "import pandas as pd\n",
    "import seaborn as sns"
   ]
  },
  {
   "cell_type": "markdown",
   "id": "6bcbf759",
   "metadata": {},
   "source": [
    "## 1: Data Gathering"
   ]
  },
  {
   "cell_type": "markdown",
   "id": "71aef221",
   "metadata": {},
   "source": [
    "I will be using the Parks Volunteer Program Hours and Savings dataset. \n",
    "\n",
    "Retrieved from:https://data.littlerock.gov/Quality-of-Life/Parks-Volunteer-Program-Hours-and-Savings/5yzr-wmzh\n",
    "\n",
    "An 'Open data portal' for the city of little rock. \n",
    "\n",
    "This dataset contains columns for:\n",
    "\n",
    "\n",
    "Program Name - Object\n",
    "\n",
    "Volunteer Count - int64\n",
    "\n",
    "Volunteer Hours - Object\t\n",
    "\n",
    "Departmental Savings - Object\n",
    "\n",
    "Date - Object"
   ]
  },
  {
   "cell_type": "code",
   "execution_count": 43,
   "id": "cec08083",
   "metadata": {
    "scrolled": false
   },
   "outputs": [
    {
     "name": "stdout",
     "output_type": "stream",
     "text": [
      "<bound method NDFrame.head of                                   Program Name  Volunteer Count  \\\n",
      "0     Active & Aging - Dunbar Community Center                4   \n",
      "1    Active & Aging - East LR Community Center               10   \n",
      "2         Active & Aging - SW Community Center               29   \n",
      "3                  Adopt-A-Flowerbed - Allsopp                1   \n",
      "4                   Adopt-A-Flowerbed - Butler                1   \n",
      "..                                         ...              ...   \n",
      "741                  Stephens Community Center               15   \n",
      "742              The Centre at University Park                1   \n",
      "743                     Therapeutic Recreation                1   \n",
      "744                      Volunteer Park Ranger               18   \n",
      "745              West Central Community Center                0   \n",
      "\n",
      "    Volunteer Hours Departmental Savings        Date  \n",
      "0                 0                    0  09/30/2020  \n",
      "1                 0                    0  09/30/2020  \n",
      "2                 0                    0  09/30/2020  \n",
      "3                 8               163.92  09/30/2020  \n",
      "4                 0                    0  09/30/2020  \n",
      "..              ...                  ...         ...  \n",
      "741               0                    0  02/28/2021  \n",
      "742               0                    0  02/28/2021  \n",
      "743               0                    0  02/28/2021  \n",
      "744          164.25           3,542.8725  02/28/2021  \n",
      "745               0                    0  02/28/2021  \n",
      "\n",
      "[746 rows x 5 columns]>\n"
     ]
    }
   ],
   "source": [
    "lil = pd.read_csv(r\"C:\\Users\\Kaden's Laptop\\Documents\\GitHub\\KadenFranklin.github.io\\csci285\\lab 2\\Parks_Volunteer_Program_Hours_and_Savings.csv\")\n",
    "print(lil.head)"
   ]
  },
  {
   "cell_type": "markdown",
   "id": "d2d6044d",
   "metadata": {},
   "source": [
    "## 2: Analysis"
   ]
  },
  {
   "cell_type": "markdown",
   "id": "f4b77ce5",
   "metadata": {},
   "source": [
    "We can also infer some more about our dataset w/ use of the .nunique command:"
   ]
  },
  {
   "cell_type": "code",
   "execution_count": 44,
   "id": "841c0195",
   "metadata": {},
   "outputs": [
    {
     "data": {
      "text/plain": [
       "Program Name             67\n",
       "Volunteer Count          28\n",
       "Volunteer Hours         138\n",
       "Departmental Savings    146\n",
       "Date                     13\n",
       "dtype: int64"
      ]
     },
     "execution_count": 44,
     "metadata": {},
     "output_type": "execute_result"
    }
   ],
   "source": [
    "lil.nunique()"
   ]
  },
  {
   "cell_type": "markdown",
   "id": "38ead7d8",
   "metadata": {},
   "source": [
    "Our dataset is a little rough around the edges, It does not even appear on one line on my machine, the following code block will clean it up a bit.\n",
    "\n",
    "Specifically I will rename the corresponding columns; \n",
    "\n",
    "(Program Name, Program) \n",
    "\n",
    "(Volunteer Count, Volunteer #) \n",
    "\n",
    "(Volunteer Hours, Volunteer hrs)\n",
    "\n",
    "(Departmental Savings, Dep. Sav.)"
   ]
  },
  {
   "cell_type": "code",
   "execution_count": 45,
   "id": "0ed1ff1e",
   "metadata": {},
   "outputs": [],
   "source": [
    "lil.rename(columns={\"Program Name\": \"program\", \"Volunteer Count\": \"Volunteer #\", \"Volunteer Hours\": \"Volunteer hrs\", \"Deparmental Savings\": \"Dep. Sav.\"})\n",
    "lil.columns = [x.lower() for x in lil.columns]"
   ]
  },
  {
   "cell_type": "code",
   "execution_count": 46,
   "id": "ef2e507e",
   "metadata": {},
   "outputs": [
    {
     "data": {
      "text/html": [
       "<div>\n",
       "<style scoped>\n",
       "    .dataframe tbody tr th:only-of-type {\n",
       "        vertical-align: middle;\n",
       "    }\n",
       "\n",
       "    .dataframe tbody tr th {\n",
       "        vertical-align: top;\n",
       "    }\n",
       "\n",
       "    .dataframe thead th {\n",
       "        text-align: right;\n",
       "    }\n",
       "</style>\n",
       "<table border=\"1\" class=\"dataframe\">\n",
       "  <thead>\n",
       "    <tr style=\"text-align: right;\">\n",
       "      <th></th>\n",
       "      <th>program name</th>\n",
       "      <th>volunteer count</th>\n",
       "      <th>volunteer hours</th>\n",
       "      <th>departmental savings</th>\n",
       "      <th>date</th>\n",
       "    </tr>\n",
       "  </thead>\n",
       "  <tbody>\n",
       "    <tr>\n",
       "      <th>0</th>\n",
       "      <td>Active &amp; Aging - Dunbar Community Center</td>\n",
       "      <td>4</td>\n",
       "      <td>0</td>\n",
       "      <td>0</td>\n",
       "      <td>09/30/2020</td>\n",
       "    </tr>\n",
       "    <tr>\n",
       "      <th>1</th>\n",
       "      <td>Active &amp; Aging - East LR Community Center</td>\n",
       "      <td>10</td>\n",
       "      <td>0</td>\n",
       "      <td>0</td>\n",
       "      <td>09/30/2020</td>\n",
       "    </tr>\n",
       "    <tr>\n",
       "      <th>2</th>\n",
       "      <td>Active &amp; Aging - SW Community Center</td>\n",
       "      <td>29</td>\n",
       "      <td>0</td>\n",
       "      <td>0</td>\n",
       "      <td>09/30/2020</td>\n",
       "    </tr>\n",
       "    <tr>\n",
       "      <th>3</th>\n",
       "      <td>Adopt-A-Flowerbed - Allsopp</td>\n",
       "      <td>1</td>\n",
       "      <td>8</td>\n",
       "      <td>163.92</td>\n",
       "      <td>09/30/2020</td>\n",
       "    </tr>\n",
       "    <tr>\n",
       "      <th>4</th>\n",
       "      <td>Adopt-A-Flowerbed - Butler</td>\n",
       "      <td>1</td>\n",
       "      <td>0</td>\n",
       "      <td>0</td>\n",
       "      <td>09/30/2020</td>\n",
       "    </tr>\n",
       "  </tbody>\n",
       "</table>\n",
       "</div>"
      ],
      "text/plain": [
       "                                program name  volunteer count volunteer hours  \\\n",
       "0   Active & Aging - Dunbar Community Center                4               0   \n",
       "1  Active & Aging - East LR Community Center               10               0   \n",
       "2       Active & Aging - SW Community Center               29               0   \n",
       "3                Adopt-A-Flowerbed - Allsopp                1               8   \n",
       "4                 Adopt-A-Flowerbed - Butler                1               0   \n",
       "\n",
       "  departmental savings        date  \n",
       "0                    0  09/30/2020  \n",
       "1                    0  09/30/2020  \n",
       "2                    0  09/30/2020  \n",
       "3               163.92  09/30/2020  \n",
       "4                    0  09/30/2020  "
      ]
     },
     "execution_count": 46,
     "metadata": {},
     "output_type": "execute_result"
    }
   ],
   "source": [
    "lil.head()"
   ]
  },
  {
   "cell_type": "markdown",
   "id": "49ef0395",
   "metadata": {},
   "source": [
    "Much Better!\n",
    "\n",
    "Now we shall check if our dataset contains any duplicate rows."
   ]
  },
  {
   "cell_type": "code",
   "execution_count": 47,
   "id": "5c8c04e0",
   "metadata": {},
   "outputs": [
    {
     "data": {
      "text/plain": [
       "0      False\n",
       "1      False\n",
       "2      False\n",
       "3      False\n",
       "4      False\n",
       "       ...  \n",
       "741     True\n",
       "742     True\n",
       "743     True\n",
       "744     True\n",
       "745     True\n",
       "Length: 746, dtype: bool"
      ]
     },
     "execution_count": 47,
     "metadata": {},
     "output_type": "execute_result"
    }
   ],
   "source": [
    "lil.duplicated()"
   ]
  },
  {
   "cell_type": "markdown",
   "id": "fa005d0b",
   "metadata": {},
   "source": [
    "Oh boy thats quite a few, lets clean them up."
   ]
  },
  {
   "cell_type": "code",
   "execution_count": 48,
   "id": "70be5df4",
   "metadata": {},
   "outputs": [],
   "source": [
    "lil_list = []\n",
    "i = -1\n",
    "for x in lil.duplicated():\n",
    "    i += 1\n",
    "    if x == True:\n",
    "        lil_list.append(i)\n",
    "        \n",
    "lil = lil.drop(labels = lil_list, axis = 0 )"
   ]
  },
  {
   "cell_type": "code",
   "execution_count": 49,
   "id": "145275b2",
   "metadata": {},
   "outputs": [
    {
     "data": {
      "text/plain": [
       "0      False\n",
       "1      False\n",
       "2      False\n",
       "3      False\n",
       "4      False\n",
       "       ...  \n",
       "681    False\n",
       "682    False\n",
       "683    False\n",
       "684    False\n",
       "685    False\n",
       "Length: 686, dtype: bool"
      ]
     },
     "execution_count": 49,
     "metadata": {},
     "output_type": "execute_result"
    }
   ],
   "source": [
    "lil.duplicated()"
   ]
  },
  {
   "cell_type": "markdown",
   "id": "efa768d7",
   "metadata": {},
   "source": [
    "While were at it, we should remove all of the comments in the dataset aswell."
   ]
  },
  {
   "cell_type": "code",
   "execution_count": 50,
   "id": "d9490281",
   "metadata": {},
   "outputs": [],
   "source": [
    "lil = lil.replace(',','', regex=True, inplace=True)"
   ]
  },
  {
   "cell_type": "markdown",
   "id": "fe9d8a0d",
   "metadata": {},
   "source": [
    "## 3: Visualization"
   ]
  },
  {
   "cell_type": "code",
   "execution_count": 61,
   "id": "0e8020e2",
   "metadata": {},
   "outputs": [
    {
     "ename": "AttributeError",
     "evalue": "module 'seaborn' has no attribute 'replot'",
     "output_type": "error",
     "traceback": [
      "\u001b[1;31m---------------------------------------------------------------------------\u001b[0m",
      "\u001b[1;31mAttributeError\u001b[0m                            Traceback (most recent call last)",
      "Input \u001b[1;32mIn [61]\u001b[0m, in \u001b[0;36m<cell line: 3>\u001b[1;34m()\u001b[0m\n\u001b[0;32m      1\u001b[0m \u001b[38;5;66;03m# See https://seaborn.pydata.org/tutorial/regression.html for a deeper treatment on linear regressions with seaborn\u001b[39;00m\n\u001b[1;32m----> 3\u001b[0m \u001b[43msns\u001b[49m\u001b[38;5;241;43m.\u001b[39;49m\u001b[43mreplot\u001b[49m(data\u001b[38;5;241m=\u001b[39mlil, x\u001b[38;5;241m=\u001b[39m\u001b[38;5;124m'\u001b[39m\u001b[38;5;124mdepartmental savings\u001b[39m\u001b[38;5;124m'\u001b[39m, y\u001b[38;5;241m=\u001b[39m\u001b[38;5;124m'\u001b[39m\u001b[38;5;124mvolunteer hours\u001b[39m\u001b[38;5;124m'\u001b[39m)\n",
      "\u001b[1;31mAttributeError\u001b[0m: module 'seaborn' has no attribute 'replot'"
     ]
    }
   ],
   "source": [
    "# See https://seaborn.pydata.org/tutorial/regression.html for a deeper treatment on linear regressions with seaborn\n",
    "\n",
    "sns.replot(data=lil, x='departmental savings', y='volunteer hours');\n",
    "\n",
    "sns.replot(data=lil, x='departmental savings', y='volunteer count');\n",
    "\n",
    "#scatter = sns.lmplot(\n",
    "#    data=lil,\n",
    "#    x='departmental savings', \n",
    "#    x_jitter=.4,\n",
    "#    y='volunteer hours', \n",
    "#    hue=' ',\n",
    "#    height=8,\n",
    "#    aspect=1.5, \n",
    "#).set(\n",
    "#    title=\"Departmental savings vs. Volunteer Hours\",\n",
    "#)"
   ]
  },
  {
   "cell_type": "code",
   "execution_count": null,
   "id": "134e2509",
   "metadata": {},
   "outputs": [],
   "source": []
  },
  {
   "cell_type": "code",
   "execution_count": null,
   "id": "aa9063d3",
   "metadata": {},
   "outputs": [],
   "source": []
  },
  {
   "cell_type": "markdown",
   "id": "43cce0d4",
   "metadata": {},
   "source": [
    "## 4: Conclusions"
   ]
  },
  {
   "cell_type": "code",
   "execution_count": null,
   "id": "d14db94c",
   "metadata": {},
   "outputs": [],
   "source": []
  }
 ],
 "metadata": {
  "kernelspec": {
   "display_name": "Python 3 (ipykernel)",
   "language": "python",
   "name": "python3"
  },
  "language_info": {
   "codemirror_mode": {
    "name": "ipython",
    "version": 3
   },
   "file_extension": ".py",
   "mimetype": "text/x-python",
   "name": "python",
   "nbconvert_exporter": "python",
   "pygments_lexer": "ipython3",
   "version": "3.9.12"
  }
 },
 "nbformat": 4,
 "nbformat_minor": 5
}
