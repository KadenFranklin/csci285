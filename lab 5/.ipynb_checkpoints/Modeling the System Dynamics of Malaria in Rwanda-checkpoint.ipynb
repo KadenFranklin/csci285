{
 "cells": [
  {
   "cell_type": "markdown",
   "metadata": {},
   "source": [
    "# Lab 5 - Modeling the System Dynamics of Malaria in Rwanda\n",
    "A lab done by both:\n",
    "\n",
    "Kaden Franklin & Alivia Allen\n",
    "\n",
    "https://hendrix-cs.github.io/csci285/labs/malaria.html"
   ]
  },
  {
   "cell_type": "code",
   "execution_count": 1,
   "metadata": {},
   "outputs": [],
   "source": [
    "# Import pandas\n",
    "import pandas as pd\n",
    "pd.set_option('display.max_columns', None)\n",
    "\n",
    "import numpy as np\n",
    "\n",
    "# Import seaborn\n",
    "import seaborn as sns\n",
    "%matplotlib inline\n",
    "import matplotlib.pyplot as plt\n",
    "\n",
    "# Import SciKitLearn functions\n",
    "from sklearn.datasets import make_blobs, make_regression\n",
    "from sklearn.preprocessing import StandardScaler\n",
    "from sklearn.linear_model import LinearRegression\n",
    "from sklearn.metrics import confusion_matrix\n",
    "from sklearn.decomposition import PCA\n",
    "from sklearn.cluster import KMeans\n",
    "\n",
    "import datetime\n",
    "\n",
    "# Apply the default theme\n",
    "sns.set_theme()\n",
    "\n",
    "from tqdm import trange\n",
    "#progress bar for long running cells"
   ]
  },
  {
   "cell_type": "markdown",
   "metadata": {},
   "source": [
    "# Step 1: Life Cycles"
   ]
  },
  {
   "cell_type": "markdown",
   "metadata": {},
   "source": [
    "Here we compile a summary of the life cycle of malaria, abstracted from: https://www.cdc.gov/malaria/about/biology/index.html\n",
    "\n",
    "Human infection of malaria begins when a mosquito infected with malaria bites a humanm transferring sporozoites that manifests infection in the liver before going on to infect the red blood cells. Once the infection has reached the blood, it reproduces via 'merozoites' or duaghter cells. The blood stage paracytes are the ones that cause the symptoms of malaria.\n"
   ]
  },
  {
   "cell_type": "markdown",
   "metadata": {},
   "source": [
    "# Step 2: Compartment Model"
   ]
  },
  {
   "cell_type": "markdown",
   "metadata": {},
   "source": [
    "Here we have a compartmenta model for the flow of malaria in human populations:"
   ]
  },
  {
   "cell_type": "markdown",
   "metadata": {},
   "source": [
    "!['Sir'](SIR_Human.jpeg)"
   ]
  },
  {
   "cell_type": "markdown",
   "metadata": {
    "scrolled": false
   },
   "source": [
    "Here the 'recovered' population is really just a placeholder. There is no incubation period before someone can get infect with malaria again. Thus the line going from recoered to susceptiblle recognizes this distinction\n",
    "\n",
    "Here we have a similiar model for the flow of malaria infection in mosquito populations:"
   ]
  },
  {
   "cell_type": "markdown",
   "metadata": {},
   "source": [
    "!['Sir-2'](SIR_Mosquito.jpeg)"
   ]
  },
  {
   "cell_type": "markdown",
   "metadata": {},
   "source": [
    "Though this model includes some notion of recovered, even though that description may not be entirely accurate. In order to 'recover' from malaria a mosquito needs to be genetically engineered to be capable of contracting the malaria virus. This would require scientist to birth a new mosquito with those genetics, thus an individual mosquito cannot 'recover' from malaria"
   ]
  },
  {
   "cell_type": "code",
   "execution_count": null,
   "metadata": {},
   "outputs": [],
   "source": []
  },
  {
   "cell_type": "markdown",
   "metadata": {},
   "source": [
    "# Step 3: Parameter Investigation"
   ]
  },
  {
   "cell_type": "code",
   "execution_count": null,
   "metadata": {},
   "outputs": [],
   "source": [
    "# https://undark.org/2020/04/22/rwanda-malaria/"
   ]
  },
  {
   "cell_type": "code",
   "execution_count": null,
   "metadata": {},
   "outputs": [],
   "source": [
    "# for malaria your recovery period is essentially the same as if you were to die from it (21 days)  [simple starting point]\n",
    "# https://nbviewer.org/github/Hendrix-CS/csci285/blob/master/assets/notebooks/SIR_Modeling.ipynb\n",
    "\n",
    "# recovery period\n",
    "duration = 21\n",
    "\n",
    "# initial populations\n",
    "sus = \n",
    "inf = \n",
    "rec = \n",
    "\n",
    "\n",
    "1/ duration\n",
    "\n",
    "gamma = 1 / (durration * (1 + (3000 / 2900000)) )\n",
    "\n",
    "lmda = (1 / duration) - gamma\n",
    "                        \n",
    "                        # 3000 deaths\n",
    "                        # 2900000 , infected population of \n",
    "                        # Beta = population that has gone from susceptible to infected\n",
    "        \n",
    "beta = gamma * 0.9\n",
    "\n",
    "# from : (2022)\n",
    "# https://d1u4sg1s9ptc4z.cloudfront.net/uploads/2022/04/Rwanda_PMI-Fact-Sheet-InCountry_FY2021_CP.pdf\n",
    "\n",
    "# Rwanda's population (all at risk for malaria infection)\n",
    "\n",
    "\n",
    "# from : (2017)\n",
    "# https://cdn.who.int/media/docs/default-source/malaria/country-profiles/2018/profile_rwa_en.pdf?sfvrsn=ffa4ef54_3&download=true\n",
    "\n",
    "# Reported confirmed cases (health facility): 1 876 123          Estimated cases: 6.2M [4.7M, 7.7M]\n",
    "# Confirmed cases at community level: 2 537 350\n",
    "# Confirmed cases from private sector: -\n",
    "# Reported deaths: 376                                          Estimated deaths: 3.3K [3K, 3.5K]\n",
    "\n",
    "\n"
   ]
  },
  {
   "cell_type": "markdown",
   "metadata": {},
   "source": [
    "# Part 4: Euler's method"
   ]
  },
  {
   "cell_type": "code",
   "execution_count": null,
   "metadata": {},
   "outputs": [],
   "source": [
    "# https://nbviewer.org/github/Hendrix-CS/csci285/blob/master/assets/notebooks/Euler_Method.ipynb\n"
   ]
  },
  {
   "cell_type": "code",
   "execution_count": null,
   "metadata": {},
   "outputs": [],
   "source": []
  },
  {
   "cell_type": "markdown",
   "metadata": {},
   "source": [
    "# Part 5: Climate Change "
   ]
  },
  {
   "cell_type": "code",
   "execution_count": null,
   "metadata": {},
   "outputs": [],
   "source": []
  },
  {
   "cell_type": "code",
   "execution_count": null,
   "metadata": {},
   "outputs": [],
   "source": []
  },
  {
   "cell_type": "markdown",
   "metadata": {},
   "source": [
    "# Part 6: Drug Therapy"
   ]
  },
  {
   "cell_type": "code",
   "execution_count": null,
   "metadata": {},
   "outputs": [],
   "source": []
  },
  {
   "cell_type": "code",
   "execution_count": null,
   "metadata": {},
   "outputs": [],
   "source": []
  },
  {
   "cell_type": "markdown",
   "metadata": {},
   "source": [
    "# Part 7: Genetically Engineered mosquitos"
   ]
  },
  {
   "cell_type": "code",
   "execution_count": null,
   "metadata": {},
   "outputs": [],
   "source": []
  },
  {
   "cell_type": "code",
   "execution_count": null,
   "metadata": {},
   "outputs": [],
   "source": []
  },
  {
   "cell_type": "markdown",
   "metadata": {},
   "source": [
    "# Part 8: Conclusions"
   ]
  },
  {
   "cell_type": "markdown",
   "metadata": {},
   "source": [
    "Write a summary of your modeling results and the process your team used to create your simulations. \n",
    "\n",
    "How sensitive is your model to the assumptions you made in finding population numbers and rates of change? \n",
    "\n",
    "What do you think is the largest problem with your model? How else would you augment the model going forward?"
   ]
  },
  {
   "cell_type": "markdown",
   "metadata": {},
   "source": []
  }
 ],
 "metadata": {
  "kernelspec": {
   "display_name": "Python 3 (ipykernel)",
   "language": "python",
   "name": "python3"
  },
  "language_info": {
   "codemirror_mode": {
    "name": "ipython",
    "version": 3
   },
   "file_extension": ".py",
   "mimetype": "text/x-python",
   "name": "python",
   "nbconvert_exporter": "python",
   "pygments_lexer": "ipython3",
   "version": "3.9.12"
  }
 },
 "nbformat": 4,
 "nbformat_minor": 2
}
