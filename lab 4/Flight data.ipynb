{
 "cells": [
  {
   "cell_type": "markdown",
   "metadata": {},
   "source": [
    "# Lab 4 - Modeling flight delays\n",
    "\n",
    "A lab done by both:\n",
    "\n",
    "Kaden Franklin & Ted Bjurlin\n",
    "\n",
    "From department of transportation\n",
    "\n",
    "https://hendrix-cs.github.io/csci285/labs/flights.html"
   ]
  },
  {
   "cell_type": "code",
   "execution_count": 13,
   "metadata": {},
   "outputs": [],
   "source": [
    "# Import pandas\n",
    "import pandas as pd\n",
    "pd.set_option('display.max_columns', None)\n",
    "\n",
    "# Import seaborn\n",
    "import seaborn as sns\n",
    "%matplotlib inline\n",
    "import matplotlib.pyplot as plt\n",
    "\n",
    "# Import SciKitLearn functions\n",
    "from sklearn.datasets import make_blobs, make_regression\n",
    "from sklearn.preprocessing import StandardScaler\n",
    "from sklearn.linear_model import LinearRegression\n",
    "from sklearn.metrics import confusion_matrix\n",
    "from sklearn.decomposition import PCA\n",
    "from sklearn.cluster import KMeans\n",
    "\n",
    "\n",
    "# Apply the default theme\n",
    "sns.set_theme()\n",
    "\n",
    "from tqdm import trange\n",
    "#progress bar for long running cells"
   ]
  },
  {
   "cell_type": "markdown",
   "metadata": {},
   "source": [
    "# Step 1: Loading flights"
   ]
  },
  {
   "cell_type": "markdown",
   "metadata": {},
   "source": [
    "We can retrieve our dataset from:\n",
    "\n",
    "https://www.kaggle.com/datasets/usdot/flight-delays\n",
    "\n",
    "https://www.kaggle.com/datasets/hendrixwilsonj/flights-transformed\n",
    "\n",
    "https://nbviewer.org/github/Hendrix-CS/csci285/blob/master/assets/notebooks/Flight_Delays_And_Cancellations.ipynb?flush_cache=true"
   ]
  },
  {
   "cell_type": "code",
   "execution_count": 2,
   "metadata": {},
   "outputs": [
    {
     "data": {
      "text/html": [
       "<div>\n",
       "<style scoped>\n",
       "    .dataframe tbody tr th:only-of-type {\n",
       "        vertical-align: middle;\n",
       "    }\n",
       "\n",
       "    .dataframe tbody tr th {\n",
       "        vertical-align: top;\n",
       "    }\n",
       "\n",
       "    .dataframe thead th {\n",
       "        text-align: right;\n",
       "    }\n",
       "</style>\n",
       "<table border=\"1\" class=\"dataframe\">\n",
       "  <thead>\n",
       "    <tr style=\"text-align: right;\">\n",
       "      <th></th>\n",
       "      <th>IATA_CODE</th>\n",
       "      <th>AIRLINE</th>\n",
       "    </tr>\n",
       "  </thead>\n",
       "  <tbody>\n",
       "    <tr>\n",
       "      <th>0</th>\n",
       "      <td>UA</td>\n",
       "      <td>United Air Lines Inc.</td>\n",
       "    </tr>\n",
       "    <tr>\n",
       "      <th>1</th>\n",
       "      <td>AA</td>\n",
       "      <td>American Airlines Inc.</td>\n",
       "    </tr>\n",
       "    <tr>\n",
       "      <th>2</th>\n",
       "      <td>US</td>\n",
       "      <td>US Airways Inc.</td>\n",
       "    </tr>\n",
       "    <tr>\n",
       "      <th>3</th>\n",
       "      <td>F9</td>\n",
       "      <td>Frontier Airlines Inc.</td>\n",
       "    </tr>\n",
       "    <tr>\n",
       "      <th>4</th>\n",
       "      <td>B6</td>\n",
       "      <td>JetBlue Airways</td>\n",
       "    </tr>\n",
       "  </tbody>\n",
       "</table>\n",
       "</div>"
      ],
      "text/plain": [
       "  IATA_CODE                 AIRLINE\n",
       "0        UA   United Air Lines Inc.\n",
       "1        AA  American Airlines Inc.\n",
       "2        US         US Airways Inc.\n",
       "3        F9  Frontier Airlines Inc.\n",
       "4        B6         JetBlue Airways"
      ]
     },
     "execution_count": 2,
     "metadata": {},
     "output_type": "execute_result"
    }
   ],
   "source": [
    "air = pd.read_csv(\"airlines.csv\")\n",
    "\n",
    "air.head()"
   ]
  },
  {
   "cell_type": "code",
   "execution_count": 12,
   "metadata": {},
   "outputs": [
    {
     "name": "stderr",
     "output_type": "stream",
     "text": [
      "C:\\Users\\kaden\\AppData\\Local\\Temp\\ipykernel_6064\\3203049405.py:5: DtypeWarning: Columns (1,2) have mixed types. Specify dtype option on import or set low_memory=False.\n",
      "  flights = pd.read_csv(r\"C:\\Users\\kaden\\Documents\\files that are too big\\flights-transformed.csv\")\n"
     ]
    },
    {
     "data": {
      "text/html": [
       "<div>\n",
       "<style scoped>\n",
       "    .dataframe tbody tr th:only-of-type {\n",
       "        vertical-align: middle;\n",
       "    }\n",
       "\n",
       "    .dataframe tbody tr th {\n",
       "        vertical-align: top;\n",
       "    }\n",
       "\n",
       "    .dataframe thead th {\n",
       "        text-align: right;\n",
       "    }\n",
       "</style>\n",
       "<table border=\"1\" class=\"dataframe\">\n",
       "  <thead>\n",
       "    <tr style=\"text-align: right;\">\n",
       "      <th></th>\n",
       "      <th>airline</th>\n",
       "      <th>origin_airport</th>\n",
       "      <th>destination_airport</th>\n",
       "      <th>scheduled_time</th>\n",
       "      <th>elapsed_time</th>\n",
       "      <th>scheduled_departure</th>\n",
       "      <th>departure_delay</th>\n",
       "      <th>arrival_delay</th>\n",
       "    </tr>\n",
       "  </thead>\n",
       "  <tbody>\n",
       "    <tr>\n",
       "      <th>0</th>\n",
       "      <td>Alaska Airlines Inc.</td>\n",
       "      <td>Ted Stevens Anchorage International Airport</td>\n",
       "      <td>Seattle-Tacoma International Airport</td>\n",
       "      <td>205.0</td>\n",
       "      <td>194.0</td>\n",
       "      <td>2015-01-01 00:05:00</td>\n",
       "      <td>-11.0</td>\n",
       "      <td>-22.0</td>\n",
       "    </tr>\n",
       "    <tr>\n",
       "      <th>1</th>\n",
       "      <td>American Airlines Inc.</td>\n",
       "      <td>Los Angeles International Airport</td>\n",
       "      <td>Palm Beach International Airport</td>\n",
       "      <td>280.0</td>\n",
       "      <td>279.0</td>\n",
       "      <td>2015-01-01 00:10:00</td>\n",
       "      <td>-8.0</td>\n",
       "      <td>-9.0</td>\n",
       "    </tr>\n",
       "    <tr>\n",
       "      <th>2</th>\n",
       "      <td>US Airways Inc.</td>\n",
       "      <td>San Francisco International Airport</td>\n",
       "      <td>Charlotte Douglas International Airport</td>\n",
       "      <td>286.0</td>\n",
       "      <td>293.0</td>\n",
       "      <td>2015-01-01 00:20:00</td>\n",
       "      <td>-2.0</td>\n",
       "      <td>5.0</td>\n",
       "    </tr>\n",
       "    <tr>\n",
       "      <th>3</th>\n",
       "      <td>American Airlines Inc.</td>\n",
       "      <td>Los Angeles International Airport</td>\n",
       "      <td>Miami International Airport</td>\n",
       "      <td>285.0</td>\n",
       "      <td>281.0</td>\n",
       "      <td>2015-01-01 00:20:00</td>\n",
       "      <td>-5.0</td>\n",
       "      <td>-9.0</td>\n",
       "    </tr>\n",
       "    <tr>\n",
       "      <th>4</th>\n",
       "      <td>Alaska Airlines Inc.</td>\n",
       "      <td>Seattle-Tacoma International Airport</td>\n",
       "      <td>Ted Stevens Anchorage International Airport</td>\n",
       "      <td>235.0</td>\n",
       "      <td>215.0</td>\n",
       "      <td>2015-01-01 00:25:00</td>\n",
       "      <td>-1.0</td>\n",
       "      <td>-21.0</td>\n",
       "    </tr>\n",
       "  </tbody>\n",
       "</table>\n",
       "</div>"
      ],
      "text/plain": [
       "                  airline                               origin_airport  \\\n",
       "0    Alaska Airlines Inc.  Ted Stevens Anchorage International Airport   \n",
       "1  American Airlines Inc.            Los Angeles International Airport   \n",
       "2         US Airways Inc.          San Francisco International Airport   \n",
       "3  American Airlines Inc.            Los Angeles International Airport   \n",
       "4    Alaska Airlines Inc.         Seattle-Tacoma International Airport   \n",
       "\n",
       "                           destination_airport  scheduled_time  elapsed_time  \\\n",
       "0         Seattle-Tacoma International Airport           205.0         194.0   \n",
       "1             Palm Beach International Airport           280.0         279.0   \n",
       "2      Charlotte Douglas International Airport           286.0         293.0   \n",
       "3                  Miami International Airport           285.0         281.0   \n",
       "4  Ted Stevens Anchorage International Airport           235.0         215.0   \n",
       "\n",
       "   scheduled_departure  departure_delay  arrival_delay  \n",
       "0  2015-01-01 00:05:00            -11.0          -22.0  \n",
       "1  2015-01-01 00:10:00             -8.0           -9.0  \n",
       "2  2015-01-01 00:20:00             -2.0            5.0  \n",
       "3  2015-01-01 00:20:00             -5.0           -9.0  \n",
       "4  2015-01-01 00:25:00             -1.0          -21.0  "
      ]
     },
     "execution_count": 12,
     "metadata": {},
     "output_type": "execute_result"
    }
   ],
   "source": [
    "# Load the transformed data into a data frame called “flights” and familarize yourself with the size and quality of the dataset.\n",
    "\n",
    "#notably the file is 700+ mb so it will not work inside a git repository, I have chosen to place it in another directory.\n",
    "\n",
    "flights = pd.read_csv(r\"C:\\Users\\kaden\\Documents\\files that are too big\\flights-transformed.csv\")\n",
    "\n",
    "flights.head()"
   ]
  },
  {
   "cell_type": "code",
   "execution_count": 4,
   "metadata": {
    "scrolled": true
   },
   "outputs": [
    {
     "name": "stdout",
     "output_type": "stream",
     "text": [
      "Number of Rows: 5714008\n",
      "Shape (rows x cols): (5714008, 8)\n"
     ]
    }
   ],
   "source": [
    "print(f\"Number of Rows: {len(flights)}\")\n",
    "print(f\"Shape (rows x cols): {flights.shape}\")"
   ]
  },
  {
   "cell_type": "code",
   "execution_count": 5,
   "metadata": {},
   "outputs": [
    {
     "data": {
      "text/html": [
       "<div>\n",
       "<style scoped>\n",
       "    .dataframe tbody tr th:only-of-type {\n",
       "        vertical-align: middle;\n",
       "    }\n",
       "\n",
       "    .dataframe tbody tr th {\n",
       "        vertical-align: top;\n",
       "    }\n",
       "\n",
       "    .dataframe thead th {\n",
       "        text-align: right;\n",
       "    }\n",
       "</style>\n",
       "<table border=\"1\" class=\"dataframe\">\n",
       "  <thead>\n",
       "    <tr style=\"text-align: right;\">\n",
       "      <th></th>\n",
       "      <th>scheduled_time</th>\n",
       "      <th>elapsed_time</th>\n",
       "      <th>departure_delay</th>\n",
       "      <th>arrival_delay</th>\n",
       "    </tr>\n",
       "  </thead>\n",
       "  <tbody>\n",
       "    <tr>\n",
       "      <th>count</th>\n",
       "      <td>5.714008e+06</td>\n",
       "      <td>5.714008e+06</td>\n",
       "      <td>5.714008e+06</td>\n",
       "      <td>5.714008e+06</td>\n",
       "    </tr>\n",
       "    <tr>\n",
       "      <th>mean</th>\n",
       "      <td>1.418940e+02</td>\n",
       "      <td>1.370062e+02</td>\n",
       "      <td>9.294842e+00</td>\n",
       "      <td>4.407057e+00</td>\n",
       "    </tr>\n",
       "    <tr>\n",
       "      <th>std</th>\n",
       "      <td>7.531400e+01</td>\n",
       "      <td>7.421107e+01</td>\n",
       "      <td>3.688972e+01</td>\n",
       "      <td>3.927130e+01</td>\n",
       "    </tr>\n",
       "    <tr>\n",
       "      <th>min</th>\n",
       "      <td>1.800000e+01</td>\n",
       "      <td>1.400000e+01</td>\n",
       "      <td>-8.200000e+01</td>\n",
       "      <td>-8.700000e+01</td>\n",
       "    </tr>\n",
       "    <tr>\n",
       "      <th>25%</th>\n",
       "      <td>8.500000e+01</td>\n",
       "      <td>8.200000e+01</td>\n",
       "      <td>-5.000000e+00</td>\n",
       "      <td>-1.300000e+01</td>\n",
       "    </tr>\n",
       "    <tr>\n",
       "      <th>50%</th>\n",
       "      <td>1.230000e+02</td>\n",
       "      <td>1.180000e+02</td>\n",
       "      <td>-2.000000e+00</td>\n",
       "      <td>-5.000000e+00</td>\n",
       "    </tr>\n",
       "    <tr>\n",
       "      <th>75%</th>\n",
       "      <td>1.740000e+02</td>\n",
       "      <td>1.680000e+02</td>\n",
       "      <td>7.000000e+00</td>\n",
       "      <td>8.000000e+00</td>\n",
       "    </tr>\n",
       "    <tr>\n",
       "      <th>max</th>\n",
       "      <td>7.180000e+02</td>\n",
       "      <td>7.660000e+02</td>\n",
       "      <td>1.988000e+03</td>\n",
       "      <td>1.971000e+03</td>\n",
       "    </tr>\n",
       "  </tbody>\n",
       "</table>\n",
       "</div>"
      ],
      "text/plain": [
       "       scheduled_time  elapsed_time  departure_delay  arrival_delay\n",
       "count    5.714008e+06  5.714008e+06     5.714008e+06   5.714008e+06\n",
       "mean     1.418940e+02  1.370062e+02     9.294842e+00   4.407057e+00\n",
       "std      7.531400e+01  7.421107e+01     3.688972e+01   3.927130e+01\n",
       "min      1.800000e+01  1.400000e+01    -8.200000e+01  -8.700000e+01\n",
       "25%      8.500000e+01  8.200000e+01    -5.000000e+00  -1.300000e+01\n",
       "50%      1.230000e+02  1.180000e+02    -2.000000e+00  -5.000000e+00\n",
       "75%      1.740000e+02  1.680000e+02     7.000000e+00   8.000000e+00\n",
       "max      7.180000e+02  7.660000e+02     1.988000e+03   1.971000e+03"
      ]
     },
     "execution_count": 5,
     "metadata": {},
     "output_type": "execute_result"
    }
   ],
   "source": [
    "flights.describe()"
   ]
  },
  {
   "cell_type": "code",
   "execution_count": 6,
   "metadata": {
    "scrolled": true
   },
   "outputs": [
    {
     "data": {
      "text/plain": [
       "airline                 origin_airport                                    destination_airport                         scheduled_time  elapsed_time  scheduled_departure  departure_delay  arrival_delay\n",
       "Southwest Airlines Co.  NaN                                               NaN                                         120.0           106.0         2015-10-06 07:35:00  -5.0             -19.0            2\n",
       "Delta Air Lines Inc.    NaN                                               NaN                                         166.0           142.0         2015-10-05 10:59:00  -2.0             -26.0            2\n",
       "Southwest Airlines Co.  NaN                                               NaN                                         90.0            83.0          2015-10-07 06:00:00  -4.0             -11.0            2\n",
       "                                                                                                                      80.0            75.0          2015-10-14 11:15:00  -2.0             -7.0             2\n",
       "                                                                                                                      65.0            60.0          2015-10-20 10:30:00  -5.0             -10.0            2\n",
       "                                                                                                                                                                                                          ..\n",
       "Delta Air Lines Inc.    Hartsfield-Jackson Atlanta International Airport  Baltimore-Washington International Airport  110.0           96.0          2015-04-06 12:30:00  -3.0             -17.0            1\n",
       "                                                                                                                                                    2015-04-02 12:30:00   3.0             -11.0            1\n",
       "                                                                                                                                                    2015-03-24 12:30:00  -3.0             -17.0            1\n",
       "                                                                                                                                                    2015-03-23 12:30:00  -3.0             -17.0            1\n",
       "Virgin America          NaN                                               NaN                                         406.0           421.0         2015-10-30 18:59:00  -6.0              9.0             1\n",
       "Length: 5713899, dtype: int64"
      ]
     },
     "execution_count": 6,
     "metadata": {},
     "output_type": "execute_result"
    }
   ],
   "source": [
    "flights.value_counts(dropna=False)"
   ]
  },
  {
   "cell_type": "code",
   "execution_count": 7,
   "metadata": {},
   "outputs": [],
   "source": [
    "flights = flights.dropna(subset = flights.columns)"
   ]
  },
  {
   "cell_type": "code",
   "execution_count": 8,
   "metadata": {},
   "outputs": [
    {
     "data": {
      "text/plain": [
       "airline                 origin_airport                                    destination_airport                          scheduled_time  elapsed_time  scheduled_departure  departure_delay  arrival_delay\n",
       "Alaska Airlines Inc.    Adak Airport                                      Ted Stevens Anchorage International Airport  161.0           153.0         2015-09-03 18:00:00   61.0             53.0            1\n",
       "Southwest Airlines Co.  Cleveland Hopkins International Airport           Baltimore-Washington International Airport   75.0            60.0          2015-03-16 13:40:00   5.0             -10.0            1\n",
       "                                                                                                                                       61.0          2015-01-05 11:05:00   51.0             37.0            1\n",
       "                                                                                                                                                     2015-01-03 13:45:00  -3.0             -17.0            1\n",
       "                                                                                                                                       60.0          2015-12-28 16:30:00   43.0             28.0            1\n",
       "                                                                                                                                                                                                           ..\n",
       "Delta Air Lines Inc.    Hartsfield-Jackson Atlanta International Airport  Augusta Regional Airport (Bush Field)        55.0            86.0          2015-07-22 19:21:00  -5.0              26.0            1\n",
       "                                                                                                                                       80.0          2015-04-08 16:10:00  -4.0              21.0            1\n",
       "                                                                                                                                       78.0          2015-04-10 15:45:00   15.0             38.0            1\n",
       "                                                                                                                                       71.0          2015-09-27 20:55:00   5.0              21.0            1\n",
       "Virgin America          Washington Dulles International Airport           San Francisco International Airport          365.0           418.0         2015-03-01 10:00:00   28.0             81.0            1\n",
       "Length: 5231130, dtype: int64"
      ]
     },
     "execution_count": 8,
     "metadata": {},
     "output_type": "execute_result"
    }
   ],
   "source": [
    "flights.value_counts(dropna=False)"
   ]
  },
  {
   "cell_type": "code",
   "execution_count": 9,
   "metadata": {},
   "outputs": [],
   "source": [
    "# Convert scheduled_departure to a datetime (this column loads as a string)\n",
    "    \n",
    "flights['scheduled_departure'] = pd.to_datetime(flights['scheduled_departure'])"
   ]
  },
  {
   "cell_type": "code",
   "execution_count": 10,
   "metadata": {},
   "outputs": [
    {
     "data": {
      "text/html": [
       "<div>\n",
       "<style scoped>\n",
       "    .dataframe tbody tr th:only-of-type {\n",
       "        vertical-align: middle;\n",
       "    }\n",
       "\n",
       "    .dataframe tbody tr th {\n",
       "        vertical-align: top;\n",
       "    }\n",
       "\n",
       "    .dataframe thead th {\n",
       "        text-align: right;\n",
       "    }\n",
       "</style>\n",
       "<table border=\"1\" class=\"dataframe\">\n",
       "  <thead>\n",
       "    <tr style=\"text-align: right;\">\n",
       "      <th></th>\n",
       "      <th>airline</th>\n",
       "      <th>origin_airport</th>\n",
       "      <th>destination_airport</th>\n",
       "      <th>scheduled_time</th>\n",
       "      <th>elapsed_time</th>\n",
       "      <th>scheduled_departure</th>\n",
       "      <th>departure_delay</th>\n",
       "      <th>arrival_delay</th>\n",
       "    </tr>\n",
       "  </thead>\n",
       "  <tbody>\n",
       "    <tr>\n",
       "      <th>0</th>\n",
       "      <td>Alaska Airlines Inc.</td>\n",
       "      <td>Ted Stevens Anchorage International Airport</td>\n",
       "      <td>Seattle-Tacoma International Airport</td>\n",
       "      <td>205.0</td>\n",
       "      <td>194.0</td>\n",
       "      <td>2015-01-01 00:05:00</td>\n",
       "      <td>-11.0</td>\n",
       "      <td>-22.0</td>\n",
       "    </tr>\n",
       "    <tr>\n",
       "      <th>1</th>\n",
       "      <td>American Airlines Inc.</td>\n",
       "      <td>Los Angeles International Airport</td>\n",
       "      <td>Palm Beach International Airport</td>\n",
       "      <td>280.0</td>\n",
       "      <td>279.0</td>\n",
       "      <td>2015-01-01 00:10:00</td>\n",
       "      <td>-8.0</td>\n",
       "      <td>-9.0</td>\n",
       "    </tr>\n",
       "    <tr>\n",
       "      <th>2</th>\n",
       "      <td>US Airways Inc.</td>\n",
       "      <td>San Francisco International Airport</td>\n",
       "      <td>Charlotte Douglas International Airport</td>\n",
       "      <td>286.0</td>\n",
       "      <td>293.0</td>\n",
       "      <td>2015-01-01 00:20:00</td>\n",
       "      <td>-2.0</td>\n",
       "      <td>5.0</td>\n",
       "    </tr>\n",
       "    <tr>\n",
       "      <th>3</th>\n",
       "      <td>American Airlines Inc.</td>\n",
       "      <td>Los Angeles International Airport</td>\n",
       "      <td>Miami International Airport</td>\n",
       "      <td>285.0</td>\n",
       "      <td>281.0</td>\n",
       "      <td>2015-01-01 00:20:00</td>\n",
       "      <td>-5.0</td>\n",
       "      <td>-9.0</td>\n",
       "    </tr>\n",
       "    <tr>\n",
       "      <th>4</th>\n",
       "      <td>Alaska Airlines Inc.</td>\n",
       "      <td>Seattle-Tacoma International Airport</td>\n",
       "      <td>Ted Stevens Anchorage International Airport</td>\n",
       "      <td>235.0</td>\n",
       "      <td>215.0</td>\n",
       "      <td>2015-01-01 00:25:00</td>\n",
       "      <td>-1.0</td>\n",
       "      <td>-21.0</td>\n",
       "    </tr>\n",
       "  </tbody>\n",
       "</table>\n",
       "</div>"
      ],
      "text/plain": [
       "                  airline                               origin_airport  \\\n",
       "0    Alaska Airlines Inc.  Ted Stevens Anchorage International Airport   \n",
       "1  American Airlines Inc.            Los Angeles International Airport   \n",
       "2         US Airways Inc.          San Francisco International Airport   \n",
       "3  American Airlines Inc.            Los Angeles International Airport   \n",
       "4    Alaska Airlines Inc.         Seattle-Tacoma International Airport   \n",
       "\n",
       "                           destination_airport  scheduled_time  elapsed_time  \\\n",
       "0         Seattle-Tacoma International Airport           205.0         194.0   \n",
       "1             Palm Beach International Airport           280.0         279.0   \n",
       "2      Charlotte Douglas International Airport           286.0         293.0   \n",
       "3                  Miami International Airport           285.0         281.0   \n",
       "4  Ted Stevens Anchorage International Airport           235.0         215.0   \n",
       "\n",
       "  scheduled_departure  departure_delay  arrival_delay  \n",
       "0 2015-01-01 00:05:00            -11.0          -22.0  \n",
       "1 2015-01-01 00:10:00             -8.0           -9.0  \n",
       "2 2015-01-01 00:20:00             -2.0            5.0  \n",
       "3 2015-01-01 00:20:00             -5.0           -9.0  \n",
       "4 2015-01-01 00:25:00             -1.0          -21.0  "
      ]
     },
     "execution_count": 10,
     "metadata": {},
     "output_type": "execute_result"
    }
   ],
   "source": [
    "flights.head()"
   ]
  },
  {
   "cell_type": "code",
   "execution_count": 11,
   "metadata": {
    "scrolled": true
   },
   "outputs": [
    {
     "data": {
      "text/plain": [
       "airline                        object\n",
       "origin_airport                 object\n",
       "destination_airport            object\n",
       "scheduled_time                float64\n",
       "elapsed_time                  float64\n",
       "scheduled_departure    datetime64[ns]\n",
       "departure_delay               float64\n",
       "arrival_delay                 float64\n",
       "dtype: object"
      ]
     },
     "execution_count": 11,
     "metadata": {},
     "output_type": "execute_result"
    }
   ],
   "source": [
    "flights.dtypes\n",
    "# Write a data dictionary which explains each column’s dtype and meaning."
   ]
  },
  {
   "cell_type": "markdown",
   "metadata": {},
   "source": [
    "## Data Dictionary which explains each column’s dtype and meaning\n",
    "\n",
    "|Feature | DataType | Description|\n",
    "|:--------|:----------|:------------|\n",
    "|airline | object | Name of airline|\n",
    "|origin_airport | object | Airport the flight will take off from|\n",
    "|destination_airport | object | Airport the flight will land at|\n",
    "|scheduled_time | float64 | Number describing the scheduled takeoff time |\n",
    "|elapsed_time | float64 | Number describing the total flight time|\n",
    "|scheduled_departure | datetime64[ns] | The flight's scheduled takeoff time (*readable*)|\n",
    "|departure_delay | float64 | Number describing the flight's delay at takeoff|\n",
    "|arrival_delay | float64 | Number describing the flights delay upon arrival|\n"
   ]
  },
  {
   "cell_type": "markdown",
   "metadata": {},
   "source": [
    "# Step 2: Aggregating & Plotting Delay"
   ]
  },
  {
   "cell_type": "markdown",
   "metadata": {},
   "source": [
    "Let’s start by performing some general analysis about delays. From Flight Delays And Cancellations, we learned that most airlines report delays close to zero but all experience large outliers.\n",
    "\n",
    "Using two bar charts aggregated by airline, plot mean departure_delay and mean arrival_delay. \n",
    "\n",
    "Make sure to label your charts, size the figure correctly, and set a title."
   ]
  },
  {
   "cell_type": "code",
   "execution_count": 98,
   "metadata": {},
   "outputs": [
    {
     "data": {
      "text/html": [
       "<div>\n",
       "<style scoped>\n",
       "    .dataframe tbody tr th:only-of-type {\n",
       "        vertical-align: middle;\n",
       "    }\n",
       "\n",
       "    .dataframe tbody tr th {\n",
       "        vertical-align: top;\n",
       "    }\n",
       "\n",
       "    .dataframe thead th {\n",
       "        text-align: right;\n",
       "    }\n",
       "</style>\n",
       "<table border=\"1\" class=\"dataframe\">\n",
       "  <thead>\n",
       "    <tr style=\"text-align: right;\">\n",
       "      <th></th>\n",
       "      <th>airline</th>\n",
       "      <th>scheduled_time</th>\n",
       "      <th>elapsed_time</th>\n",
       "      <th>departure_delay</th>\n",
       "      <th>arrival_delay</th>\n",
       "    </tr>\n",
       "  </thead>\n",
       "  <tbody>\n",
       "    <tr>\n",
       "      <th>0</th>\n",
       "      <td>Alaska Airlines Inc.</td>\n",
       "      <td>181.980385</td>\n",
       "      <td>179.296940</td>\n",
       "      <td>1.892036</td>\n",
       "      <td>-0.791409</td>\n",
       "    </tr>\n",
       "    <tr>\n",
       "      <th>1</th>\n",
       "      <td>American Airlines Inc.</td>\n",
       "      <td>172.527060</td>\n",
       "      <td>167.208246</td>\n",
       "      <td>9.254027</td>\n",
       "      <td>3.935214</td>\n",
       "    </tr>\n",
       "    <tr>\n",
       "      <th>2</th>\n",
       "      <td>American Eagle Airlines Inc.</td>\n",
       "      <td>96.210442</td>\n",
       "      <td>93.003753</td>\n",
       "      <td>10.523229</td>\n",
       "      <td>7.316540</td>\n",
       "    </tr>\n",
       "    <tr>\n",
       "      <th>3</th>\n",
       "      <td>Atlantic Southeast Airlines</td>\n",
       "      <td>99.278895</td>\n",
       "      <td>97.272090</td>\n",
       "      <td>8.971355</td>\n",
       "      <td>6.964550</td>\n",
       "    </tr>\n",
       "    <tr>\n",
       "      <th>4</th>\n",
       "      <td>Delta Air Lines Inc.</td>\n",
       "      <td>147.848780</td>\n",
       "      <td>140.822148</td>\n",
       "      <td>7.706897</td>\n",
       "      <td>0.680265</td>\n",
       "    </tr>\n",
       "    <tr>\n",
       "      <th>5</th>\n",
       "      <td>Frontier Airlines Inc.</td>\n",
       "      <td>155.737870</td>\n",
       "      <td>155.249765</td>\n",
       "      <td>14.217548</td>\n",
       "      <td>13.729468</td>\n",
       "    </tr>\n",
       "    <tr>\n",
       "      <th>6</th>\n",
       "      <td>Hawaiian Airlines Inc.</td>\n",
       "      <td>101.115620</td>\n",
       "      <td>102.780620</td>\n",
       "      <td>0.496856</td>\n",
       "      <td>2.161856</td>\n",
       "    </tr>\n",
       "    <tr>\n",
       "      <th>7</th>\n",
       "      <td>JetBlue Airways</td>\n",
       "      <td>173.003866</td>\n",
       "      <td>168.199839</td>\n",
       "      <td>11.753367</td>\n",
       "      <td>6.949339</td>\n",
       "    </tr>\n",
       "    <tr>\n",
       "      <th>8</th>\n",
       "      <td>Skywest Airlines Inc.</td>\n",
       "      <td>102.620149</td>\n",
       "      <td>100.729380</td>\n",
       "      <td>8.112207</td>\n",
       "      <td>6.221438</td>\n",
       "    </tr>\n",
       "    <tr>\n",
       "      <th>9</th>\n",
       "      <td>Southwest Airlines Co.</td>\n",
       "      <td>127.479958</td>\n",
       "      <td>121.389724</td>\n",
       "      <td>10.928065</td>\n",
       "      <td>4.837831</td>\n",
       "    </tr>\n",
       "    <tr>\n",
       "      <th>10</th>\n",
       "      <td>Spirit Air Lines</td>\n",
       "      <td>157.938397</td>\n",
       "      <td>156.530978</td>\n",
       "      <td>16.618205</td>\n",
       "      <td>15.210786</td>\n",
       "    </tr>\n",
       "    <tr>\n",
       "      <th>11</th>\n",
       "      <td>US Airways Inc.</td>\n",
       "      <td>154.777246</td>\n",
       "      <td>152.402455</td>\n",
       "      <td>6.081000</td>\n",
       "      <td>3.706209</td>\n",
       "    </tr>\n",
       "    <tr>\n",
       "      <th>12</th>\n",
       "      <td>United Air Lines Inc.</td>\n",
       "      <td>200.130679</td>\n",
       "      <td>191.318335</td>\n",
       "      <td>15.023660</td>\n",
       "      <td>6.211316</td>\n",
       "    </tr>\n",
       "    <tr>\n",
       "      <th>13</th>\n",
       "      <td>Virgin America</td>\n",
       "      <td>210.169638</td>\n",
       "      <td>205.969774</td>\n",
       "      <td>9.179403</td>\n",
       "      <td>4.979539</td>\n",
       "    </tr>\n",
       "  </tbody>\n",
       "</table>\n",
       "</div>"
      ],
      "text/plain": [
       "                         airline  scheduled_time  elapsed_time  \\\n",
       "0           Alaska Airlines Inc.      181.980385    179.296940   \n",
       "1         American Airlines Inc.      172.527060    167.208246   \n",
       "2   American Eagle Airlines Inc.       96.210442     93.003753   \n",
       "3    Atlantic Southeast Airlines       99.278895     97.272090   \n",
       "4           Delta Air Lines Inc.      147.848780    140.822148   \n",
       "5         Frontier Airlines Inc.      155.737870    155.249765   \n",
       "6         Hawaiian Airlines Inc.      101.115620    102.780620   \n",
       "7                JetBlue Airways      173.003866    168.199839   \n",
       "8          Skywest Airlines Inc.      102.620149    100.729380   \n",
       "9         Southwest Airlines Co.      127.479958    121.389724   \n",
       "10              Spirit Air Lines      157.938397    156.530978   \n",
       "11               US Airways Inc.      154.777246    152.402455   \n",
       "12         United Air Lines Inc.      200.130679    191.318335   \n",
       "13                Virgin America      210.169638    205.969774   \n",
       "\n",
       "    departure_delay  arrival_delay  \n",
       "0          1.892036      -0.791409  \n",
       "1          9.254027       3.935214  \n",
       "2         10.523229       7.316540  \n",
       "3          8.971355       6.964550  \n",
       "4          7.706897       0.680265  \n",
       "5         14.217548      13.729468  \n",
       "6          0.496856       2.161856  \n",
       "7         11.753367       6.949339  \n",
       "8          8.112207       6.221438  \n",
       "9         10.928065       4.837831  \n",
       "10        16.618205      15.210786  \n",
       "11         6.081000       3.706209  \n",
       "12        15.023660       6.211316  \n",
       "13         9.179403       4.979539  "
      ]
     },
     "execution_count": 98,
     "metadata": {},
     "output_type": "execute_result"
    }
   ],
   "source": [
    "new_df = flights.groupby(['airline'], as_index=False).mean(numeric_only=True)\n",
    "\n",
    "new_df"
   ]
  },
  {
   "cell_type": "code",
   "execution_count": 99,
   "metadata": {
    "scrolled": false
   },
   "outputs": [
    {
     "data": {
      "image/png": "[encoded data removed]",
      "text/plain": [
       "<Figure size 432x288 with 1 Axes>"
      ]
     },
     "metadata": {},
     "output_type": "display_data"
    }
   ],
   "source": [
    "bar = sns.barplot(\n",
    "    data=new_df, \n",
    "    x=\"departure_delay\", \n",
    "    y=\"airline\"\n",
    ").set(\n",
    "    title=\"Mean departure time by airline\"\n",
    ")"
   ]
  },
  {
   "cell_type": "code",
   "execution_count": 100,
   "metadata": {},
   "outputs": [
    {
     "data": {
      "image/png": "[encoded data removed]",
      "text/plain": [
       "<Figure size 432x288 with 1 Axes>"
      ]
     },
     "metadata": {},
     "output_type": "display_data"
    }
   ],
   "source": [
    "bar = sns.barplot(\n",
    "    data=new_df, \n",
    "    x=\"arrival_delay\", \n",
    "    y=\"airline\"\n",
    ").set(\n",
    "    title=\"Mean arrival time by airline\"\n",
    ")"
   ]
  },
  {
   "cell_type": "code",
   "execution_count": null,
   "metadata": {},
   "outputs": [],
   "source": []
  },
  {
   "cell_type": "code",
   "execution_count": null,
   "metadata": {},
   "outputs": [],
   "source": []
  },
  {
   "cell_type": "markdown",
   "metadata": {},
   "source": [
    "Feature Selection: Restrict columns to just the three mentioned above.\n",
    "\n",
    "Aggregation: You’ll need to aggregate the data (i.e. mean delays) after feature selection. \n",
    "\n",
    "Once aggregation is done, its common to reset the index in order to make the data easier to plot."
   ]
  },
  {
   "cell_type": "code",
   "execution_count": 101,
   "metadata": {},
   "outputs": [],
   "source": [
    "newer_df = flights[['airline', 'departure_delay', 'arrival_delay']].groupby(['airline'], as_index=False).mean(numeric_only=True)"
   ]
  },
  {
   "cell_type": "code",
   "execution_count": 102,
   "metadata": {},
   "outputs": [
    {
     "data": {
      "text/html": [
       "<div>\n",
       "<style scoped>\n",
       "    .dataframe tbody tr th:only-of-type {\n",
       "        vertical-align: middle;\n",
       "    }\n",
       "\n",
       "    .dataframe tbody tr th {\n",
       "        vertical-align: top;\n",
       "    }\n",
       "\n",
       "    .dataframe thead th {\n",
       "        text-align: right;\n",
       "    }\n",
       "</style>\n",
       "<table border=\"1\" class=\"dataframe\">\n",
       "  <thead>\n",
       "    <tr style=\"text-align: right;\">\n",
       "      <th></th>\n",
       "      <th>airline</th>\n",
       "      <th>departure_delay</th>\n",
       "      <th>arrival_delay</th>\n",
       "    </tr>\n",
       "  </thead>\n",
       "  <tbody>\n",
       "    <tr>\n",
       "      <th>0</th>\n",
       "      <td>Alaska Airlines Inc.</td>\n",
       "      <td>1.892036</td>\n",
       "      <td>-0.791409</td>\n",
       "    </tr>\n",
       "    <tr>\n",
       "      <th>1</th>\n",
       "      <td>American Airlines Inc.</td>\n",
       "      <td>9.254027</td>\n",
       "      <td>3.935214</td>\n",
       "    </tr>\n",
       "    <tr>\n",
       "      <th>2</th>\n",
       "      <td>American Eagle Airlines Inc.</td>\n",
       "      <td>10.523229</td>\n",
       "      <td>7.316540</td>\n",
       "    </tr>\n",
       "    <tr>\n",
       "      <th>3</th>\n",
       "      <td>Atlantic Southeast Airlines</td>\n",
       "      <td>8.971355</td>\n",
       "      <td>6.964550</td>\n",
       "    </tr>\n",
       "    <tr>\n",
       "      <th>4</th>\n",
       "      <td>Delta Air Lines Inc.</td>\n",
       "      <td>7.706897</td>\n",
       "      <td>0.680265</td>\n",
       "    </tr>\n",
       "    <tr>\n",
       "      <th>5</th>\n",
       "      <td>Frontier Airlines Inc.</td>\n",
       "      <td>14.217548</td>\n",
       "      <td>13.729468</td>\n",
       "    </tr>\n",
       "    <tr>\n",
       "      <th>6</th>\n",
       "      <td>Hawaiian Airlines Inc.</td>\n",
       "      <td>0.496856</td>\n",
       "      <td>2.161856</td>\n",
       "    </tr>\n",
       "    <tr>\n",
       "      <th>7</th>\n",
       "      <td>JetBlue Airways</td>\n",
       "      <td>11.753367</td>\n",
       "      <td>6.949339</td>\n",
       "    </tr>\n",
       "    <tr>\n",
       "      <th>8</th>\n",
       "      <td>Skywest Airlines Inc.</td>\n",
       "      <td>8.112207</td>\n",
       "      <td>6.221438</td>\n",
       "    </tr>\n",
       "    <tr>\n",
       "      <th>9</th>\n",
       "      <td>Southwest Airlines Co.</td>\n",
       "      <td>10.928065</td>\n",
       "      <td>4.837831</td>\n",
       "    </tr>\n",
       "    <tr>\n",
       "      <th>10</th>\n",
       "      <td>Spirit Air Lines</td>\n",
       "      <td>16.618205</td>\n",
       "      <td>15.210786</td>\n",
       "    </tr>\n",
       "    <tr>\n",
       "      <th>11</th>\n",
       "      <td>US Airways Inc.</td>\n",
       "      <td>6.081000</td>\n",
       "      <td>3.706209</td>\n",
       "    </tr>\n",
       "    <tr>\n",
       "      <th>12</th>\n",
       "      <td>United Air Lines Inc.</td>\n",
       "      <td>15.023660</td>\n",
       "      <td>6.211316</td>\n",
       "    </tr>\n",
       "    <tr>\n",
       "      <th>13</th>\n",
       "      <td>Virgin America</td>\n",
       "      <td>9.179403</td>\n",
       "      <td>4.979539</td>\n",
       "    </tr>\n",
       "  </tbody>\n",
       "</table>\n",
       "</div>"
      ],
      "text/plain": [
       "                         airline  departure_delay  arrival_delay\n",
       "0           Alaska Airlines Inc.         1.892036      -0.791409\n",
       "1         American Airlines Inc.         9.254027       3.935214\n",
       "2   American Eagle Airlines Inc.        10.523229       7.316540\n",
       "3    Atlantic Southeast Airlines         8.971355       6.964550\n",
       "4           Delta Air Lines Inc.         7.706897       0.680265\n",
       "5         Frontier Airlines Inc.        14.217548      13.729468\n",
       "6         Hawaiian Airlines Inc.         0.496856       2.161856\n",
       "7                JetBlue Airways        11.753367       6.949339\n",
       "8          Skywest Airlines Inc.         8.112207       6.221438\n",
       "9         Southwest Airlines Co.        10.928065       4.837831\n",
       "10              Spirit Air Lines        16.618205      15.210786\n",
       "11               US Airways Inc.         6.081000       3.706209\n",
       "12         United Air Lines Inc.        15.023660       6.211316\n",
       "13                Virgin America         9.179403       4.979539"
      ]
     },
     "execution_count": 102,
     "metadata": {},
     "output_type": "execute_result"
    }
   ],
   "source": [
    "newer_df"
   ]
  },
  {
   "cell_type": "code",
   "execution_count": 103,
   "metadata": {},
   "outputs": [],
   "source": [
    "newer_df = newer_df.dropna(subset = newer_df.columns).reset_index()"
   ]
  },
  {
   "cell_type": "markdown",
   "metadata": {},
   "source": [
    "Discussion\n",
    "\n",
    "Examine the charts you just produced. Which airlines are outliers for departure_delay? \n",
    "\n",
    "\n",
    "\n",
    "Which airlines are outliers for arrival_delay? \n",
    "\n",
    "Alaskan airlines\n",
    "\n",
    "\n",
    "Find the mean departure_delay and arrival_delay across all airlines excluding any outliers."
   ]
  },
  {
   "cell_type": "markdown",
   "metadata": {},
   "source": [
    "# Step 3: Departure Delay\n",
    "\n",
    "Now we define some functions needed for later use"
   ]
  },
  {
   "cell_type": "code",
   "execution_count": 104,
   "metadata": {},
   "outputs": [
    {
     "data": {
      "application/javascript": [
       "IPython.OutputArea.prototype._should_scroll = function(lines) {\n",
       "    return false;\n",
       "}\n"
      ],
      "text/plain": [
       "<IPython.core.display.Javascript object>"
      ]
     },
     "metadata": {},
     "output_type": "display_data"
    }
   ],
   "source": [
    "%%javascript\n",
    "IPython.OutputArea.prototype._should_scroll = function(lines) {\n",
    "    return false;\n",
    "}"
   ]
  },
  {
   "cell_type": "code",
   "execution_count": 105,
   "metadata": {},
   "outputs": [],
   "source": [
    "from matplotlib.colors import LinearSegmentedColormap\n",
    "\n",
    "\n",
    "def plot_heatmap_discrete_legend(data):\n",
    "    \n",
    "    # Set the width and height of the figure\n",
    "    plt.figure(figsize=(20,100))\n",
    "    \n",
    "    # Add title\n",
    "    plt.title(\"Average Departure Delay (Airline vs. Origin Airport)\")\n",
    "    \n",
    "    # calc discrete values\n",
    "    value_to_int = {j:i for i,j in enumerate(pd.unique(data.values.ravel()))}\n",
    "    n = len(value_to_int)   \n",
    "\n",
    "    # discrete colormap (n samples from a given cmap)\n",
    "    cmap = sns.color_palette(\"Paired\", n) \n",
    "    ax = sns.heatmap(\n",
    "        data=data.replace(value_to_int), \n",
    "        cmap=cmap,\n",
    "        linewidths=0.5,\n",
    "        linecolor='lightgray'\n",
    "    ) \n",
    "\n",
    "    # modify colorbar\n",
    "    colorbar = ax.collections[0].colorbar \n",
    "    r = colorbar.vmax - colorbar.vmin \n",
    "    colorbar.set_ticks([colorbar.vmin + r / n * (0.5 + i) for i in range(n)])\n",
    "    colorbar.set_ticklabels(list(value_to_int.keys()))                                          \n",
    "    \n",
    "    # show plot\n",
    "    plt.show()"
   ]
  },
  {
   "cell_type": "markdown",
   "metadata": {},
   "source": [
    "In Step 2, you showed that mean departure_delay is larger than mean arrival_delay\n",
    "\n",
    "For the rest of this lab, we will continue to model departure_delay, \n",
    "\n",
    "but ignore arrival_delay since it may be impacted by variables outside the flights dataset (e.g. flight speed)."
   ]
  },
  {
   "cell_type": "code",
   "execution_count": null,
   "metadata": {},
   "outputs": [],
   "source": [
    "# idk what im doin\n",
    "\n",
    "# look here:\n",
    "# https://nbviewer.org/github/Hendrix-CS/csci285/blob/master/assets/notebooks/Flight_Delays_And_Cancellations.ipynb?flush_cache=true\n",
    "\n",
    "# this as reference by bonus\n",
    "# https://www.kaggle.com/code/fabiendaniel/predicting-flight-delays-tutorial\n"
   ]
  },
  {
   "cell_type": "markdown",
   "metadata": {},
   "source": [
    "Origin Airport vs. Airline\n",
    "\n",
    "Let’s see if the origin_airport has an impact on departure_delay by plotting a heatmap of airline vs. origin_airport. \n",
    "\n",
    "The color should correspond to delay_level, which we will define in a bit."
   ]
  },
  {
   "cell_type": "code",
   "execution_count": null,
   "metadata": {},
   "outputs": [],
   "source": [
    "heat = sns.heatmap(\n",
    "    data=h, \n",
    "    annot=True,\n",
    "    cmap=\"coolwarm\"\n",
    ")"
   ]
  },
  {
   "cell_type": "markdown",
   "metadata": {},
   "source": [
    "Feature Selection: \n",
    "\n",
    "Start by creating a dataframe that has the three columns mentioned above."
   ]
  },
  {
   "cell_type": "code",
   "execution_count": null,
   "metadata": {},
   "outputs": [],
   "source": []
  },
  {
   "cell_type": "markdown",
   "metadata": {},
   "source": [
    "Aggregation: \n",
    "\n",
    "Group the dataframe by origin_airport and airline and calculate mean departure_delay.\n",
    "\n",
    "The resulting dataframe should have a shape of (1304, 1). origin_airport and airline should make up a MultiIndex."
   ]
  },
  {
   "cell_type": "code",
   "execution_count": null,
   "metadata": {},
   "outputs": [],
   "source": []
  },
  {
   "cell_type": "markdown",
   "metadata": {},
   "source": [
    "Augmentation:\n",
    "\n",
    "Create a new feature called delay_level.\n",
    "\n",
    "Values in this column should be one of “on time” (if delay is less than 5 minutes), “small delay” (if delay is less than 45 minutes) or “long delay”."
   ]
  },
  {
   "cell_type": "code",
   "execution_count": null,
   "metadata": {},
   "outputs": [],
   "source": []
  },
  {
   "cell_type": "markdown",
   "metadata": {},
   "source": [
    "Reshaping:\n",
    "\n",
    "Select just the delay_level series from the grouped dataframe and call .unstack() to shape the series back into a dataframe that has origin_airport as its index and all of the airlines as columns. \n",
    "\n",
    "The final shape should be (322, 14). The values of this heatmap should be the delay_level categories you just defined."
   ]
  },
  {
   "cell_type": "code",
   "execution_count": null,
   "metadata": {},
   "outputs": [],
   "source": []
  },
  {
   "cell_type": "markdown",
   "metadata": {},
   "source": [
    "Plotting:\n",
    "\n",
    "Finally, use the provided plot_heatmap_discrete_legend() function to visualize this dataset. \n",
    "\n",
    "This function’s purpose is mostly to discretize the delay_level color pallete and legend. \n",
    "\n",
    "You should be able to pass the unstacked data frame that has a shape of (322, 14) to this function as a parameter."
   ]
  },
  {
   "cell_type": "code",
   "execution_count": null,
   "metadata": {},
   "outputs": [],
   "source": []
  },
  {
   "cell_type": "markdown",
   "metadata": {},
   "source": [
    "After dropping nan values we should convert numerical value into a matrix"
   ]
  },
  {
   "cell_type": "code",
   "execution_count": null,
   "metadata": {
    "scrolled": true
   },
   "outputs": [],
   "source": [
    "x = c_t.loc [:, columns].values\n",
    "x"
   ]
  },
  {
   "cell_type": "code",
   "execution_count": null,
   "metadata": {},
   "outputs": [],
   "source": [
    "scalar = StandardScaler()\n",
    "\n",
    "x = scalar.fit_transform(x)\n",
    "x"
   ]
  },
  {
   "cell_type": "code",
   "execution_count": null,
   "metadata": {},
   "outputs": [],
   "source": [
    "kmeans = KMeans(n_clusters=2)\n",
    "result = kmeans.fit(x)"
   ]
  },
  {
   "cell_type": "code",
   "execution_count": null,
   "metadata": {},
   "outputs": [],
   "source": [
    "result.cluster_centers_"
   ]
  },
  {
   "cell_type": "code",
   "execution_count": null,
   "metadata": {},
   "outputs": [],
   "source": [
    "result.labels_"
   ]
  },
  {
   "cell_type": "code",
   "execution_count": null,
   "metadata": {
    "scrolled": true
   },
   "outputs": [],
   "source": [
    "result.cluster_centers_"
   ]
  },
  {
   "cell_type": "code",
   "execution_count": null,
   "metadata": {},
   "outputs": [],
   "source": [
    "c_t[['age', 'rest_bps', 'cholesterol', 'maximum_heart_rate', 'vessels']] = scalar.fit_transform(c_t[['age', 'rest_bps', 'cholesterol', 'maximum_heart_rate', 'vessels']])\n",
    "\n",
    "y = kmeans.fit_predict(c_t[['age', 'rest_bps', 'cholesterol', 'maximum_heart_rate', 'vessels']])\n",
    "\n",
    "c_t['clusters'] = y\n",
    "\n",
    "c_t.head()"
   ]
  },
  {
   "cell_type": "code",
   "execution_count": null,
   "metadata": {},
   "outputs": [],
   "source": []
  },
  {
   "cell_type": "code",
   "execution_count": null,
   "metadata": {},
   "outputs": [],
   "source": []
  },
  {
   "cell_type": "markdown",
   "metadata": {},
   "source": [
    "Discussion:\n",
    "\n",
    "Compare the output from using plot_heatmap_discrete_legend() vs. a vanilla call to sns.heatmap. \n",
    "\n",
    "What’s the value of discretizing the color pallete and legend?\n",
    "\n",
    "Discuss whether origin_airport has an impact on departure_delay. \n",
    "\n",
    "Are some airports more prone to delays than others? Or is origin_airport not an important feature when modeling flight delays?"
   ]
  },
  {
   "cell_type": "code",
   "execution_count": null,
   "metadata": {},
   "outputs": [],
   "source": []
  },
  {
   "cell_type": "markdown",
   "metadata": {},
   "source": [
    "# Step 4: Temporal Analysis (Bonus)\n",
    "+  +15 points on exam 1\n",
    "\n",
    "In Steps 2 & 3, you did an analysis of how airline and origin_airport affect departure_delay.\n",
    "\n",
    "We also narrowed our view to just modeling departure_delay.\n",
    "\n",
    "Let’s start modeling delays now by looking at scheduled_departure more closely for a given airline and origin_airport.\n",
    "\n",
    "There is so much data to parse that in order to visualize its temporal nature we need to restrict our view to a smaller time range."
   ]
  },
  {
   "cell_type": "code",
   "execution_count": null,
   "metadata": {},
   "outputs": [],
   "source": []
  },
  {
   "cell_type": "markdown",
   "metadata": {},
   "source": [
    "Feature Selection:\n",
    "\n",
    "Start by restricting, re-naming, and re-ordering your dataset’s features to the following columns:\n",
    "\n",
    "(airline, airport, time, delay).\n",
    "\n",
    "Here “airport” means origin_airport, “time” means scheduled_departure and “delay” means departure_delay."
   ]
  },
  {
   "cell_type": "code",
   "execution_count": null,
   "metadata": {},
   "outputs": [],
   "source": []
  },
  {
   "cell_type": "markdown",
   "metadata": {},
   "source": [
    "Aggregation: \n",
    "\n",
    "You’ll need to aggregate the data (i.e. mean delay) after feature selection.\n",
    "\n",
    "It is possible for multiple rows to match (airline, airport, time) because destination airport has been dropped \n",
    "\n",
    "(i.e. multiple flights can leave at the same time going to different destinations). \n",
    "\n",
    "Check for duplicates before and after aggregating to ensure this was done correctly."
   ]
  },
  {
   "cell_type": "markdown",
   "metadata": {},
   "source": [
    "For how to chain pandas conditionals together:\n",
    "\n",
    "https://chrisalbon.com/code/python/data_wrangling/pandas_selecting_rows_on_conditions/"
   ]
  },
  {
   "cell_type": "markdown",
   "metadata": {},
   "source": [
    "\n",
    "\n",
    "delaythreshold = 60 * 12 # delayed less than a day. \n",
    "\n",
    "time_range = f['time'] < datetime.datetime(2015, 1, 15)\n",
    "delay_cap = f['delay'] < delaythreshold\n",
    "airline = f['airline'] == \"American Airlines Inc.\"\n",
    "airport = f['airport'] == \"Dallas/Fort Worth International Airport\"\n",
    "I deliberately chose an airline and airport that I knew would have lots of data to work with - AA is headquartered in Dallas, so there are a large number of daily flights. Make sure to drop any NaN values from the final dataframe.\n"
   ]
  },
  {
   "cell_type": "code",
   "execution_count": null,
   "metadata": {},
   "outputs": [],
   "source": []
  },
  {
   "cell_type": "markdown",
   "metadata": {},
   "source": [
    "Plot time vs. delay\n",
    "\n",
    "Create two line charts. The first line chart should show data ranging from 2015-01-01 to 2015-01-14. For the second, choose only two or three days of data to display. Make sure to label your axes and set a title. Size the figure appropriately. Set aspect=3.0."
   ]
  },
  {
   "cell_type": "code",
   "execution_count": null,
   "metadata": {},
   "outputs": [],
   "source": []
  },
  {
   "cell_type": "markdown",
   "metadata": {},
   "source": [
    "Model time of day\n",
    "Now we want to zero in on time and delay across all airlines and for all of 2015. Reduce the dataset again to just two columns: time and delay. Make sure to to clear any filters, such as airline/airport, that were previously applied. This plot should cover the full 2015 dataset for all airlines."
   ]
  },
  {
   "cell_type": "code",
   "execution_count": null,
   "metadata": {},
   "outputs": [],
   "source": []
  },
  {
   "cell_type": "markdown",
   "metadata": {},
   "source": [
    "Convert the time column to just be “seconds since the start of the day”. You can either make a new column, or replace the existing time column with this new series. Create a scatter plot and regression line using lmplot.\n",
    "\n",
    "Aggregate data and drop any NaN values.\n",
    "Label your axes and set a title.\n",
    "Size the figure appropriately. Set aspect=3.0.\n",
    "Color the reg line by passing line_kws={'color': 'red'} as an argument to .lmplot().\n",
    "Pass as an argument order=3 to fit a polynomial of 3 terms intead of linear."
   ]
  },
  {
   "cell_type": "code",
   "execution_count": null,
   "metadata": {},
   "outputs": [],
   "source": []
  },
  {
   "cell_type": "markdown",
   "metadata": {},
   "source": [
    "\n",
    "\n",
    "Discussion\n",
    "For each plot, what patterns in the data do you observe? What explains these patterns?"
   ]
  },
  {
   "cell_type": "code",
   "execution_count": null,
   "metadata": {},
   "outputs": [],
   "source": []
  },
  {
   "cell_type": "code",
   "execution_count": null,
   "metadata": {},
   "outputs": [],
   "source": [
    "c_t.groupby(['heart_disease',  'clusters']).size()"
   ]
  },
  {
   "cell_type": "code",
   "execution_count": null,
   "metadata": {},
   "outputs": [],
   "source": [
    "def apply_pred(x):\n",
    "    m = [True, False]\n",
    "    return m[x]"
   ]
  },
  {
   "cell_type": "code",
   "execution_count": null,
   "metadata": {},
   "outputs": [],
   "source": [
    "c_t['prediction'] = c_t['clusters'].apply(apply_pred)"
   ]
  },
  {
   "cell_type": "code",
   "execution_count": null,
   "metadata": {},
   "outputs": [],
   "source": [
    "ground_tr = c_t['heart_disease'].values\n",
    "pred_val = c_t['prediction'].values\n",
    "y_axis = c_t['heart_disease'].unique()"
   ]
  },
  {
   "cell_type": "code",
   "execution_count": null,
   "metadata": {},
   "outputs": [],
   "source": [
    "new_data = confusion_matrix(ground_tr, pred_val, labels = y_axis)\n",
    "new_data"
   ]
  },
  {
   "cell_type": "code",
   "execution_count": null,
   "metadata": {},
   "outputs": [],
   "source": [
    "fig, ax = plt.subplots(figsize=(10, 5))\n",
    "\n",
    "\n",
    "\n",
    "heatmap = sns.heatmap(\n",
    "    pd.DataFrame(new_data, columns=y_axis, index=y_axis),\n",
    "    annot=True,\n",
    "    fmt=\"d\",\n",
    "    annot_kws={\"size\":13},\n",
    "    cmap=\"Spectral\"\n",
    ")"
   ]
  },
  {
   "cell_type": "markdown",
   "metadata": {},
   "source": [
    "The outcome of running K-Means on this dataset can be explained in a few expressions of variables.\n",
    "\n",
    "The variables extrapolated are shown in the graph about and the chart below.\n",
    "\n",
    "\n",
    "113 True Negatives - These patients do not have heart disease and were predicted correctly\n",
    "\n",
    "35 False Negatives - These patients have heart disease and were predicted incorrectly\n",
    "\n",
    "46 False Positives - These patients do not have heart disease and were predicted incorrectly\n",
    "\n",
    "99 True Positives - These patients have heart disease and were predicted correctly\n",
    "\n",
    "\n",
    "\n"
   ]
  },
  {
   "cell_type": "code",
   "execution_count": null,
   "metadata": {},
   "outputs": [],
   "source": [
    "c_t.groupby(['heart_disease', 'prediction']).size()"
   ]
  },
  {
   "cell_type": "code",
   "execution_count": null,
   "metadata": {},
   "outputs": [],
   "source": [
    "c_t.sort_values(['heart_disease'])[['heart_disease', 'clusters']]"
   ]
  },
  {
   "cell_type": "markdown",
   "metadata": {},
   "source": [
    "# Step 5: Choropleths (Bonus)\n",
    "+ +1 late day\n",
    "\n",
    "\n",
    "In airlines.csv there are geographical features that can be used to make choropleths. \n",
    "\n",
    "Overlay airline location on top of any choropleth of your choosing. You may need to use kaggle to load the necessary geopandas libraries.\n",
    "\n",
    "Please turn in step 5 in a separate notebook from Steps 1-4.\n"
   ]
  },
  {
   "cell_type": "code",
   "execution_count": null,
   "metadata": {},
   "outputs": [],
   "source": [
    "pca = PCA(n_components=2).fit(x)"
   ]
  },
  {
   "cell_type": "code",
   "execution_count": null,
   "metadata": {},
   "outputs": [],
   "source": [
    "pca.explained_variance_"
   ]
  },
  {
   "cell_type": "code",
   "execution_count": null,
   "metadata": {},
   "outputs": [],
   "source": [
    "x"
   ]
  },
  {
   "cell_type": "code",
   "execution_count": null,
   "metadata": {},
   "outputs": [],
   "source": [
    "pca.transform(x)"
   ]
  },
  {
   "cell_type": "code",
   "execution_count": null,
   "metadata": {},
   "outputs": [],
   "source": [
    "pca = PCA(\n",
    "    n_components=2\n",
    ")\n",
    "\n",
    "principal_components = pca.fit_transform(x)"
   ]
  },
  {
   "cell_type": "code",
   "execution_count": null,
   "metadata": {},
   "outputs": [],
   "source": [
    "pcadf = pd.DataFrame(data= principal_components,\n",
    "                       columns=[\"PCA 1\", \"PCA 2\"])\n",
    "\n",
    "pcadf['clusters'] = c_t['clusters']\n",
    "pcadf['prediction'] = c_t['prediction']"
   ]
  },
  {
   "cell_type": "code",
   "execution_count": null,
   "metadata": {},
   "outputs": [],
   "source": [
    "scatter = sns.relplot(\n",
    "    data=pcadf, \n",
    "    x=\"PCA 1\", \n",
    "    y=\"PCA 2\", \n",
    "    kind=\"scatter\",\n",
    "    height=10,\n",
    "    aspect=1.5, \n",
    "    hue=\"clusters\",\n",
    "    style=\"prediction\",\n",
    ").set(\n",
    "    title=\"Heart disease vs. Cluster\"\n",
    ")"
   ]
  }
 ],
 "metadata": {
  "kernelspec": {
   "display_name": "Python 3 (ipykernel)",
   "language": "python",
   "name": "python3"
  },
  "language_info": {
   "codemirror_mode": {
    "name": "ipython",
    "version": 3
   },
   "file_extension": ".py",
   "mimetype": "text/x-python",
   "name": "python",
   "nbconvert_exporter": "python",
   "pygments_lexer": "ipython3",
   "version": "3.9.12"
  }
 },
 "nbformat": 4,
 "nbformat_minor": 2
}
