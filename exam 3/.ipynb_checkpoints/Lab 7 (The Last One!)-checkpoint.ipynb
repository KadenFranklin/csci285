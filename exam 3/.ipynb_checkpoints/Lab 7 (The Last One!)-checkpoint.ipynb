{
 "cells": [
  {
   "cell_type": "markdown",
   "metadata": {},
   "source": [
    "# Lab 5 - Agent Based Modelling\n",
    "A lab done by both:\n",
    "\n",
    "Kaden Franklin & Ted Bjurlin\n",
    "\n",
    "https://hendrix-cs.github.io/csci285/labs/abm.html"
   ]
  },
  {
   "cell_type": "code",
   "execution_count": 2,
   "metadata": {},
   "outputs": [],
   "source": [
    "# Import pandas\n",
    "import pandas as pd\n",
    "pd.set_option('display.max_columns', None)\n",
    "\n",
    "import numpy as np\n",
    "\n",
    "# Import seaborn\n",
    "import seaborn as sns\n",
    "%matplotlib inline\n",
    "import matplotlib.pyplot as plt\n",
    "\n",
    "from tqdm import trange\n",
    "#progress bar for long running cells"
   ]
  },
  {
   "cell_type": "markdown",
   "metadata": {},
   "source": [
    "\n",
    "In this lab, you will use [Mesa](https://github.com/projectmesa/mesa) to update and implement Agent-Based Models related to forest fires, chemical diffusion, ant pheromone communication, and termite construction.\n",
    "\n",
    "# Step 1 - Forest Regrowth\n",
    "\n",
    "Start by opening https://github.com/projectmesa/mesa/tree/main/examples/forest_fire in a new PyCharm Project. Confirm that you can run mesa runserver and see the forest fire visualization.\n",
    "\n",
    "Add Complexity\n",
    "Add a new state to the tree called Empty, and make it the default condition for new Trees. Revise the model setup so that an empty Tree is added to every space. Use the density parameter to initialize some Trees to Fine.\n",
    "\n",
    "Add a new parameter to the model called lifetime which denotes how long a tree will live in the model. Each tree when initialized to Fine should be given an age between 0 and lifetime.\n",
    "\n",
    "Continue the current assumption that all Trees with x == 0 should start On Fire but change the ending condition of the model step method to be based on if self.schedule.time is greater than 200.\n",
    "\n",
    "Change Tree Lifecycle\n",
    "Now, revise the Tree lifecycle in the step method to incorporate the following:\n",
    "\n",
    "Burned Out trees decay over time. Add a decay_time integer parameter to the model. Each tree that is burned should keep track of the time since it was burned. After the decay_time has passed, the tree decays, and its condition should be Empty.\n",
    "\n",
    "Fine trees can grow new Fine trees in adjacent Empty neighbors. When a tree reaches the age of the lifetime parameter, the tree will try to change up to two adjacent Empty spaces into Fine trees, and set their age to 0. Then, the tree will change its own condition to Empty.\n",
    "\n",
    "Visualization\n",
    "Visualize your results using mesa runserver. Add sliders for decay_time and lifetime. Identify a set of parameters and/or initial conditions that create an interesting visualization that highlights all of the model’s behavior. Take some screen shots of your visualization to turn in with your report.\n",
    "\n",
    "Analysis\n",
    "Using [Forest Fire Notebook](https://nbviewer.org/github/Hendrix-CS/csci285/blob/master/assets/notebooks/Forest%20Fire%20Model.ipynb) for reference, create a notebook to re-run model simulations and perform a parameter sweep over decay_time from 0 to 60 with a step size of 2. Run each parameter choice 4 times. Determine the effect of changing this parameter on the number of Fine trees after 200 time steps."
   ]
  },
  {
   "cell_type": "code",
   "execution_count": null,
   "metadata": {},
   "outputs": [],
   "source": []
  },
  {
   "cell_type": "code",
   "execution_count": null,
   "metadata": {},
   "outputs": [],
   "source": []
  },
  {
   "cell_type": "code",
   "execution_count": null,
   "metadata": {},
   "outputs": [],
   "source": []
  },
  {
   "cell_type": "markdown",
   "metadata": {},
   "source": [
    "# Step 2 - Diffusion and Wind\n",
    "Starting from [Diffusion Mesa Model,](https://github.com/wilsojb/diffusion-mesa/archive/refs/heads/master.zip) alter the code such that the pollutant from the factory can be affected by a breeze from West to East. This breeze should be controlled by a parameter between 0 and 1 called wind_strength.\n",
    "\n",
    "Visualize your model using mesa runserver. Add a slider for wind_strength. Take some screen shots of your visualization to turn in with your report.\n",
    "\n",
    "Justify your choice of implementation and changes to the base model code."
   ]
  },
  {
   "cell_type": "code",
   "execution_count": null,
   "metadata": {},
   "outputs": [],
   "source": []
  },
  {
   "cell_type": "code",
   "execution_count": null,
   "metadata": {},
   "outputs": [],
   "source": []
  },
  {
   "cell_type": "code",
   "execution_count": null,
   "metadata": {},
   "outputs": [],
   "source": []
  },
  {
   "cell_type": "markdown",
   "metadata": {},
   "source": [
    "# Step 3 - Ant Parameter Tweaking\n",
    "[Ant Phereomone Model](https://github.com/wilsojb/ants-mesa/archive/refs/heads/master.zip) demonstrates ants communicating about food stores using pheromone diffusion. Download this model and visualize it using mesa runserver. You should notice that the parameters for this model are very inadequate for effective communication. Find a reasonable set of parameters that allow the ants to quickly find the food and gather it all to their home.\n",
    "\n",
    "Use the Notebook included in the model to visualize a graph of the food collection using your optimized parameters."
   ]
  },
  {
   "cell_type": "code",
   "execution_count": null,
   "metadata": {},
   "outputs": [],
   "source": []
  },
  {
   "cell_type": "code",
   "execution_count": null,
   "metadata": {},
   "outputs": [],
   "source": []
  },
  {
   "cell_type": "code",
   "execution_count": null,
   "metadata": {},
   "outputs": [],
   "source": []
  },
  {
   "cell_type": "markdown",
   "metadata": {},
   "source": [
    "# Step 4 - Termite Modeling\n",
    "Create a new agent-based model to study the collective behavior of [termites](http://en.wikipedia.org/wiki/Termite). In particular, you will be modeling how termites organize to build large structures without a leader. There will be two types of agents in the world, Termite and Environment.\n",
    "\n",
    " Tip: Look to the Forest Fire model for how to get started.\n",
    "Environment\n",
    "The Environment of the world will have two states, DIRT and EMPTY. Make the DIRT tate appear yellow, and the EMPTY state be black. In this model, the Environment will not need to update its state, only hold information for the Termite class to manipulate.\n",
    "\n",
    "Termite\n",
    "We will use three states to model our Termite behavior, FORAGE, LOOK, and DROP.\n",
    "\n",
    "When a Termite is in the FORAGE state, they wander randomly around the world. If they step on top of an Environment cell that contains DIRT, they pick it up by making their current cell EMTPY, and change their own state to LOOK.\n",
    "\n",
    "In the LOOK state, the Termite is looking for another piece of DIRT. They will again wander around the world randomly until they are standing on a cell with DIRT. When this happens, they change their state to DROP.\n",
    "\n",
    "Finally, a Termite in the DROP state is now looking for an EMPTY Environment cell in the world. They wander randomly until they find this EMPTY cell, then put their DIRT into the cell. They then take 5 random steps, and finally change to the FORAGE state. This last piece helps them not to immediately pick up the piece of DIRT they just dropped.\n",
    "\n",
    "Model\n",
    "Initialize your model with the following parameters\n",
    "\n",
    "height = 40\n",
    "width = 40\n",
    "num_dirt = 200\n",
    "num_termites = 50\n",
    "This will make a 40x40 world, with 200 random pieces of the environment selected to be DIRT, and with 50 Termite agents, placed them randomly in the world to start.\n",
    "\n",
    "Call the step method of the scheduler, and make sure to stop the model from running if the scheduler time is greater than 200.\n",
    "\n",
    "Following the Forest Fire and Ant models above, write a server.py that will allow you to visualize your termites. Use the ant.png file to display a termite on the screen. You do not need to create sliders, but are welcome to do so if you want.\n",
    "\n",
    "Visualize your model using the mesa runserver method to display the grid."
   ]
  },
  {
   "cell_type": "code",
   "execution_count": null,
   "metadata": {},
   "outputs": [],
   "source": []
  },
  {
   "cell_type": "code",
   "execution_count": null,
   "metadata": {},
   "outputs": [],
   "source": []
  },
  {
   "cell_type": "code",
   "execution_count": null,
   "metadata": {},
   "outputs": [],
   "source": []
  },
  {
   "cell_type": "markdown",
   "metadata": {},
   "source": [
    "# BONUS - Counting Piles\n",
    "We would like to know how the number of piles changes over time. We can define a pile as a connected group of pieces of DIRT. To count the piles, we can implement the following algorithm as a static method in the model:\n",
    "\n",
    "initialize a boolean array the same size as the grid called marking.\n",
    "set everywhere in marking to False.\n",
    "examine each space in the grid systematically, row by column.\n",
    "if a grid space with a piece of DIRT is found, and the corresponding spot in marking is False\n",
    "increment the number of piles\n",
    "starting here, perform a recursive search to find the extent of the pile.\n",
    "for each orthogonal neighbor (N, E, S, W) that is a piece of DIRT and is marked False\n",
    "mark it to be True.\n",
    "recursively search its neighbors."
   ]
  },
  {
   "cell_type": "code",
   "execution_count": null,
   "metadata": {},
   "outputs": [],
   "source": []
  },
  {
   "cell_type": "code",
   "execution_count": null,
   "metadata": {},
   "outputs": [],
   "source": []
  },
  {
   "cell_type": "code",
   "execution_count": null,
   "metadata": {},
   "outputs": [],
   "source": []
  },
  {
   "cell_type": "markdown",
   "metadata": {},
   "source": [
    "# BONUS - Evaluation\n",
    "Perform a parameter sweep on num_termites, from 20 to 80, incrementing by 5, running each parameter choice 4 times, and record the number of piles at the end of the simulation.\n",
    "\n",
    "Include in your writeup screen shots from the start and end of your model. Describe what you see in terms of the formation of piles of dirt."
   ]
  },
  {
   "cell_type": "code",
   "execution_count": null,
   "metadata": {},
   "outputs": [],
   "source": []
  },
  {
   "cell_type": "code",
   "execution_count": null,
   "metadata": {},
   "outputs": [],
   "source": []
  },
  {
   "cell_type": "code",
   "execution_count": null,
   "metadata": {},
   "outputs": [],
   "source": []
  }
 ],
 "metadata": {
  "kernelspec": {
   "display_name": "Python 3 (ipykernel)",
   "language": "python",
   "name": "python3"
  },
  "language_info": {
   "codemirror_mode": {
    "name": "ipython",
    "version": 3
   },
   "file_extension": ".py",
   "mimetype": "text/x-python",
   "name": "python",
   "nbconvert_exporter": "python",
   "pygments_lexer": "ipython3",
   "version": "3.9.12"
  }
 },
 "nbformat": 4,
 "nbformat_minor": 2
}
